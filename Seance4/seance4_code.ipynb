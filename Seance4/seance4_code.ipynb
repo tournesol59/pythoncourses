{
 "cells": [
  {
   "cell_type": "markdown",
   "metadata": {},
   "source": [
    "#### Programmation objet en Python\n",
    "### Les Classes\n",
    "Une classe regroupe des fonctions et des attributs qui définissent un objet. On appelle par ailleurs les fonctions d'une classe des \" méthodes \"."
   ]
  },
  {
   "cell_type": "code",
   "execution_count": null,
   "metadata": {},
   "outputs": [],
   "source": [
    "class Voiture:\n",
    "\tdef __init__(self):\n",
    "\t\tself.nom = \"Ferrari\""
   ]
  },
  {
   "cell_type": "code",
   "execution_count": 1,
   "metadata": {},
   "outputs": [],
   "source": [
    "class Voiture:\n",
    "\tnom = \"Ferrari\""
   ]
  },
  {
   "cell_type": "markdown",
   "metadata": {},
   "source": [
    "Notre classe Voiture est une sorte d'usine à créer des voitures.\n",
    "La méthode __init__() est appelée lors de la création d'un objet.\n",
    "self.nom est une manière de stocker une information dans la classe. On parle d'attribut de classe. Dans notre cas, on stock le nom dans l'attribut nom ."
   ]
  },
  {
   "cell_type": "markdown",
   "metadata": {},
   "source": [
    "### Les Objets ou Instances de Classe\n",
    "Un objet est une instance d'une classe . On peut créer autant d'objets que l'on désire avec une classe .\n",
    "Créons maintenant notre voiture:"
   ]
  },
  {
   "cell_type": "code",
   "execution_count": 2,
   "metadata": {},
   "outputs": [],
   "source": [
    "ma_voiture = Voiture()"
   ]
  },
  {
   "cell_type": "markdown",
   "metadata": {},
   "source": [
    "#### Les Attributs\n",
    "Les attributs de classe permettent de stocker des informations au niveau de la classe. Elle sont similaires aux variables."
   ]
  },
  {
   "cell_type": "code",
   "execution_count": 3,
   "metadata": {},
   "outputs": [
    {
     "data": {
      "text/plain": [
       "'Ferrari'"
      ]
     },
     "execution_count": 3,
     "metadata": {},
     "output_type": "execute_result"
    }
   ],
   "source": [
    "ma_voiture = Voiture()\n",
    "ma_voiture.nom"
   ]
  },
  {
   "cell_type": "markdown",
   "metadata": {},
   "source": [
    "**Attributs d'instance :** </br>\n",
    "Ce sont des attributs spécifiques à chaque instance de la classe.\n",
    "Ils sont définis dans le constructeur (__\\_\\_init\\_\\___) de la classe.\n",
    "Accessibles via l'instance de la classe."
   ]
  },
  {
   "cell_type": "code",
   "execution_count": 10,
   "metadata": {},
   "outputs": [
    {
     "name": "stdout",
     "output_type": "stream",
     "text": [
      "10\n"
     ]
    }
   ],
   "source": [
    "class Exemple:\n",
    "    def __init__(self, x):\n",
    "        self.x = x  # Attribut d'instance\n",
    "\n",
    "exple = Exemple(10)\n",
    "print(exple.x)"
   ]
  },
  {
   "cell_type": "markdown",
   "metadata": {},
   "source": [
    "**Attributs de classe  :** </br>\n",
    "Ce sont des attributs partagés par toutes les instances de la classe.\n",
    "Définis directement dans la classe, en dehors des méthodes.\n",
    "Accessibles via la classe elle-même ou via une instance."
   ]
  },
  {
   "cell_type": "code",
   "execution_count": 14,
   "metadata": {},
   "outputs": [
    {
     "name": "stdout",
     "output_type": "stream",
     "text": [
      "La valeur de l'attribut de classe 'y' est : 10\n"
     ]
    }
   ]
   "source": [
    "class Exemple:\n",
    "    y = 10  # Attribut de classe\n",
    "\n",
    "    def afficher_attribut_de_classe1(self):\n",
    "        print(f\"La valeur de l'attribut de classe 'y' est : {self.y}\")\n",
    "    \n",
    "    @classmethod\n",
    "    def afficher_attribut_de_classe2(cls):\n",
    "        print(f\"La valeur de l'attribut de classe 'y' est : {cls.y}\")\n",
    "\n",
    "exple = Exemple()\n",
    "exple.afficher_attribut_de_classe2()"
   ]
  },
  {
   "cell_type": "code",
   "execution_count": 15,
   "metadata": {},
   "outputs": [
    {
     "name": "stdout",
     "output_type": "stream",
     "text": [
      "10\n",
      "La valeur de l'attribut de classe 'y' est : 10\n",
      "La valeur de l'attribut de classe 'y' est : 20\n"
     ]
    }
   ],
   "source": [
    "print(Exemple.y)\n",
    "Exemple.afficher_attribut_de_classe2()\n",
    "\n",
    "Exemple.y = 20\n",
    "\n",
    "exple2 = Exemple()\n",
    "exple2.afficher_attribut_de_classe2()"
   ]
  },
  {
   "cell_type": "markdown",
   "metadata": {},
   "source": [
    "> Les attributs de classe sont souvent utilisés pour créer des données ou des actions globales à la classe, qui ne dépendent pas d’une instance. Les instances peuvent cependant y accéder. Modifier un attribut de classe dans une instance le modifiera dans toutes les autres !"
   ]
  },
  {
   "cell_type": "code",
   "execution_count": 16,
   "metadata": {},
   "outputs": [
    {
     "name": "stdout",
     "output_type": "stream",
     "text": [
      "On a rien trouvé...\n",
      "On a trouvé un mouette !\n"
     ]
    }
   ],
   "source": [
    "class Bird:\n",
    "    \"\"\"Un oiseau. 🐦\"\"\"\n",
    "\n",
    "    # ici on utilise deux attributs de classe.\n",
    "    names = (\"mouette\", \"pigeon\", \"moineau\", \"hirrondelle\")\n",
    "    positions = {}\n",
    "\n",
    "    def __init__(self, name):\n",
    "        \"\"\"Les attributs définis ici sont des attributs d'instance.\"\"\"\n",
    "        self.position = 1, 2\n",
    "        self.name = name\n",
    "        \n",
    "        # On accède à l'attribut de classe \"positions\" avec self (c'est possible).\n",
    "        self.positions[self.position] = self.name\n",
    "\n",
    "    @classmethod\n",
    "    def find_bird(cls, position):\n",
    "        \"\"\"Retrouve un oiseau selon la position donnée.\"\"\"\n",
    "        if position in cls.positions:\n",
    "            return f\"On a trouvé un {cls.positions[position]} !\"\n",
    "\n",
    "        return \"On a rien trouvé...\"\n",
    "\n",
    "\n",
    "# On peut accéder aux variables de classe sans instanciation.\n",
    "Bird.names\n",
    "Bird.positions\n",
    "print(Bird.find_bird((2, 5)))\n",
    "\n",
    "# On instancie un oiseau\n",
    "bird = Bird(\"mouette\")\n",
    "\n",
    "# On le retrouve avec la méthode find_bird.\n",
    "print(Bird.find_bird((1, 2)))"
   ]
  },
  {
   "cell_type": "markdown",
   "metadata": {},
   "source": [
    "**Ajout dynamique des Attributs à une instance :** </br>\n",
    "Python permet d'ajouter des attributs à une instance ou à une classe dynamiquement.\n",
    "Utile lorsque vous souhaitez ajouter des attributs à des instances spécifiques."
   ]
  },
  {
   "cell_type": "code",
   "execution_count": 9,
   "metadata": {},
   "outputs": [
    {
     "name": "stdout",
     "output_type": "stream",
     "text": [
      "{'attribut_1': 'Ceci est un nouvel attribut 1', 'attribut_deux': 'Ceci est un nouvel attribut 2'}\n"
     ]
    }
   ],
   "source": [
    "objet = Exemple()\n",
    "objet.attribut_1 = \"Ceci est un nouvel attribut 1\"\n",
    "objet.attribut_deux = \"Ceci est un nouvel attribut 2\"\n",
    "\n",
    "print(objet.__dict__)"
   ]
  },
  {
   "cell_type": "markdown",
   "metadata": {},
   "source": [
    "> Je vous recommande de privilégier les attributs d’instance qui permettent d’utiliser la programmation orientée objet à son plein potentiel. Les attributs de classe peuvent être très utiles, mais sont censés être plus rares. Evitez également les ajouts dynamiques d'attributs. Cette pratique peut rendre le code très complexe. Il sera mieux de priviligier les notions d'Héritage et Polymorphisme que nous verrons dans la suite."
   ]
  },
  {
   "cell_type": "markdown",
   "metadata": {},
   "source": [
    "### Les Méthodes\n",
    "Il nous faut à présent doter ces classes d'une fonctionnalité. L'idée de base de la programmation orientée objet consiste en effet à regrouper dans un même ensemble (l'objet) à la fois un certain nombre de données (ce sont les attributs d'instance) et les algorithmes destinés à effectuer divers traitements sur ces données (ce sont les méthodes, c'est-à-dire des fonctions encapsulées).\n",
    "\n",
    "__Objet = [ attributs + méthodes ]__"
   ]
  },
  {
   "cell_type": "code",
   "execution_count": 23,
   "metadata": {},
   "outputs": [
    {
     "data": {
      "text/plain": [
       "'function(a, b) -> list'"
      ]
     },
     "execution_count": 23,
     "metadata": {},
     "output_type": "execute_result"
    }
   ],
   "source": [
    "# Decription d'une classe\n",
    "\n",
    "class Exemple:\n",
    "    \"\"\" Ceci est un exemple. Ce texte permet de décrire le fonctionnement de la classe.\"\"\"\n",
    "    def __init__(self, x):\n",
    "        self.x = x  # Attribut d'instance\n",
    "    \n",
    "    def a_function(a, b):\n",
    "        \"\"\"function(a, b) -> list\"\"\"\n",
    "\n",
    "Exemple.__dict__\n",
    "Exemple.a_function.__doc__"
   ]
  },
  {
   "cell_type": "markdown",
   "metadata": {},
   "source": [
    "### Exercice 1"
   ]
  },
  {
   "cell_type": "code",
   "execution_count": 19,
   "metadata": {},
   "outputs": [],
   "source": [
    "class ToolBox:\n",
    "    \"\"\"Boite à outils.\"\"\"\n",
    "\n",
    "    def __init__(self):\n",
    "        \"\"\"Initialise les outils.\"\"\"\n",
    "        self.tools = []\n",
    "\n",
    "    def add_tool(self, tool):\n",
    "        \"\"\"Ajoute un outil.\"\"\"\n",
    "        self.tools.append(tool)\n",
    "\n",
    "    def remove_tool(self, tool):\n",
    "        \"\"\"Enleve un outil.\"\"\"\n",
    "        index = self.tools.index(tool)\n",
    "        del self.tools[index]\n",
    "\n",
    " \n",
    "\n",
    "class Screwdriver:\n",
    "    \"\"\"Tournevis.\"\"\"\n",
    "\n",
    "    def __init__(self, size=3):\n",
    "        \"\"\"Initialise la taille.\"\"\"\n",
    "        self.size = size\n",
    "    \n",
    "    def tighten(self, screw):\n",
    "        \"\"\"Serrer une vis.\"\"\"\n",
    "        screw.tighten()\n",
    "    \n",
    "    def loosen(self, screw):\n",
    "        \"\"\"Desserre une vis.\"\"\"\n",
    "        screw.loosen()\n",
    "    \n",
    "    def __repr__(self):\n",
    "        \"\"\"Représentation de l'objet.\"\"\"\n",
    "        return f\"Tournevis de taille {self.size}\"\n",
    "\n",
    "\n",
    "class Hammer:\n",
    "    \"\"\"Marteau.\"\"\"\n",
    "\n",
    "    def __init__(self, color=\"red\"):\n",
    "        \"\"\"Initialise la couleur.\"\"\"\n",
    "        self.color = color\n",
    "    \n",
    "    def paint(self, color):\n",
    "        \"\"\"Paint le marteau.\"\"\"\n",
    "        self.color = color\n",
    "    \n",
    "    def hammer_in(self, nail):\n",
    "        \"\"\"Enfonce un clou.\"\"\"\n",
    "        nail.nail_in()\n",
    "    \n",
    "    def remove(self, nail):\n",
    "        \"\"\"Enleve un clou.\"\"\"\n",
    "        nail.remove()\n",
    "    \n",
    "    def __repr__(self):\n",
    "        \"\"\"Représentation de l'objet.\"\"\"\n",
    "        return f\"Marteau de couleur {self.color}\"\n",
    "\n",
    "\n",
    "class Screw:\n",
    "    \"\"\"Vis.\"\"\"\n",
    "     \n",
    "    MAX_TIGHTNESS = 5\n",
    "    \n",
    "    def __init__(self):\n",
    "        \"\"\"Initialise son degré de serrage.\"\"\"\n",
    "        self.tightness = 0\n",
    "    \n",
    "    def loosen(self):\n",
    "        \"\"\"Déserre le vis.\"\"\"\n",
    "        if self.tightness > 0:\n",
    "            self.tightness -= 1\n",
    "    \n",
    "    def tighten(self):\n",
    "        \"\"\"Serre le vis.\"\"\"\n",
    "        if self.tightness < self.MAX_TIGHTNESS:\n",
    "            self.tightness += 1\n",
    "    \n",
    "    def __str__(self):\n",
    "        \"\"\"Retourne une forme lisible de l'objet.\"\"\"\n",
    "        return \"Vis avec un serrage de {}\".format(self.tightness)\n",
    "\n",
    "\n",
    "class Nail:\n",
    "    \"\"\"Clou.\"\"\"\n",
    "    \n",
    "    def __init__(self):\n",
    "        \"\"\"Initialise son statut \"dans le mur\".\"\"\"\n",
    "        self.in_wall = False\n",
    "    \n",
    "    def nail_in(self):\n",
    "        \"\"\"Enfonce le clou dans un mur.\"\"\"\n",
    "        if not self.in_wall:\n",
    "            self.in_wall = True\n",
    "    \n",
    "    def remove(self):\n",
    "        \"\"\"Enlève le clou du mur.\"\"\"\n",
    "        if self.in_wall:\n",
    "            self.in_wall = False\n",
    "    \n",
    "    def __str__(self):\n",
    "        \"\"\"Retourne une forme lisible de l'objet.\"\"\"\n",
    "        wall_state = \"dans le mur\" if self.in_wall else \"hors du mur\"\n",
    "        return f\"Clou {wall_state}.\""
   ]
  },
  {
   "cell_type": "markdown",
   "metadata": {},
   "source": [
    "Essayez d’accomplir les actions suivantes :\n",
    "\n",
    "- Instanciez une boîte à outils, un tournevis, et un marteau.\n",
    "- Placez le marteau et le tournevis dans la boîte à outils.\n",
    "- Instanciez une vis, et serrez-la avec le tournevis. Affichez la vis avant et après avoir été serrée.\n",
    "- Instanciez un clou, puis enfoncez-le avec le marteau. Affichez le clou avant et après avoir été enfoncé."
   ]
  },
  {
   "cell_type": "markdown",
   "metadata": {},
   "source": []
  },
  {
   "cell_type": "code",
   "execution_count": 20,
   "metadata": {},
   "outputs": [
    {
     "name": "stdout",
     "output_type": "stream",
     "text": [
      "Vis avec un serrage de 0\n",
      "Vis avec un serrage de 1\n",
      "Clou hors du mur.\n",
      "Clou dans le mur.\n",
      "outils dans la boîte: [Marteau de couleur red, Tournevis de taille 3]\n",
      "on a enlevé le marteau\n",
      "outils dans la boîte: [Tournevis de taille 3]\n",
      "Vis avec un serrage de 0\n",
      "Clou hors du mur.\n",
      "Marteau de couleur yellow\n"
     ]
    }
   ],
   "source": [
    "\n",
    "\n",
    "# Instanciez une boîte à outils, un tournevis, et un marteau.\n",
    "hammer = Hammer()\n",
    "screwdriver = Screwdriver()\n",
    "toolbox = ToolBox()\n",
    "\n",
    "# Placez le marteau et le tournevis dans la boîte à outils.\n",
    "toolbox.add_tool(hammer)\n",
    "toolbox.add_tool(screwdriver)\n",
    "\n",
    "# Instanciez une vis, et serrez-la avec le tournevis.\n",
    "# Affichez la vis avant après avoir été serrée.\n",
    "screw = Screw()\n",
    "print(screw)\n",
    "screwdriver.tighten(screw)\n",
    "print(screw)\n",
    "\n",
    "# Instanciez un clou, puis enfoncez-le avec le marteau.\n",
    "# Affichez le clou avant et après avoir été enfoncé.\n",
    "nail = Nail()\n",
    "print(nail)\n",
    "hammer.hammer_in(nail)\n",
    "print(nail)\n",
    "\n",
    "\n",
    "# --------------------------------------------------------------\n",
    "# Que pouvez-vous faire d’autre avec ces classes et ces objets ?\n",
    "\n",
    "# enlever un outil\n",
    "print(\"outils dans la boîte:\", toolbox.tools)\n",
    "toolbox.remove_tool(hammer)\n",
    "print(\"on a enlevé le marteau\")\n",
    "print(\"outils dans la boîte:\", toolbox.tools)\n",
    "\n",
    "# désserrer la vis\n",
    "screwdriver.loosen(screw)\n",
    "print(screw)\n",
    "\n",
    "# enlever le clou\n",
    "hammer.remove(nail)\n",
    "print(nail)\n",
    "\n",
    "# repeindre le marteau\n",
    "hammer.paint(\"yellow\")\n",
    "print(hammer)"
   ]
  },
  {
   "cell_type": "markdown",
   "metadata": {},
   "source": [
    "### L'Heritage\n",
    "\n",
    "L'un des principaux atouts de ce type de programmation réside dans le fait que l'on peut toujours se servir d'une classe préexistante pour en créer une nouvelle qui possédera quelques fonctionnalités différentes ou supplémentaires. Le procédé s'appelle ***dérivation***. Il permet de créer toute une hiérarchie de classes allant du général au particulier.\n",
    "\n",
    "* Nous pouvons par exemple définir une classe **Mammifere**, qui contiendra un ensemble de caractéristiques propres à ce type d'animal. A partir de cette classe, nous pourrons alors dériver une classe **Primate**, une classe **Rongeur**, une classe **Carnivore**, etc., qui hériteront toutes les caractéristiques de la classe **Mammifere**, en y ajoutant leurs spécificités.\n",
    "\n",
    "* Au départ de la classe **Carnivore**, nous pourrons ensuite dériver une classe **Belette**, une classe **Loup**, une classe **Chien**, etc., qui hériteront encore une fois toutes les caractéristiques de la classe parente avant d'y ajouter les leurs.\n",
    "  \n",
    "* Dans l'exemple ci-dessous, nous voyons que l'objet whoaff , qui est une instance de la classe **Chien**, hérite non seulement l'attribut défini pour cette classe, mais également des attributs définis pour les classes parentes.\n"
   ]
  },
  {
   "cell_type": "code",
   "execution_count": 24,
   "metadata": {},
   "outputs": [
    {
     "name": "stdout",
     "output_type": "stream",
     "text": [
      "il allaite ses petits ; il se nourrit de la chair de ses proies ; son cri s'appelle aboiement ;\n"
     ]
    }
   ],
   "source": [
    "class Mammifere:\n",
    "    caract1 = \"il allaite ses petits ;\"\n",
    " \n",
    "class Carnivore(Mammifere):\n",
    "    caract2 = \"il se nourrit de la chair de ses proies ;\"\n",
    " \n",
    "class Chien(Carnivore):\n",
    "    caract3 = \"son cri s'appelle aboiement ;\"\n",
    " \n",
    "whoaff = Chien()\n",
    "print (whoaff.caract1, whoaff.caract2, whoaff.caract3)\n"
   ]
  },
  {
   "cell_type": "markdown",
   "metadata": {},
   "source": [
    "Dans l'exemple ci-dessous:\n",
    "\n",
    "* **Animal** est la classe de base qui a un constructeur __\\_\\_init\\_\\___ pour initialiser l'attribut nom et une méthode *parler*.\n",
    "**Chien** est une sous-classe de Animal qui hérite de ses propriétés et méthodes. Elle a également un constructeur __\\_\\_init\\_\\___ qui utilise __super()__ pour appeler le constructeur de la classe parente.\n",
    "* La méthode *parler* de la classe **Chien** redéfinit la méthode *parler* de la classe **Animal**.\n",
    "* L'utilisation de __super()__ permet d'appeler les méthodes de la classe parente, ce qui est utile pour éviter la duplication de code et garantir que l'initialisation appropriée est effectuée dans la hiérarchie des classes."
   ]
  },
  {
   "cell_type": "code",
   "execution_count": null,
   "metadata": {},
   "outputs": [],
   "source": [
    "# Classe de base (parent)\n",
    "class Animal:\n",
    "    def __init__(self, nom):\n",
    "        self.nom = nom\n",
    "\n",
    "    def parler(self):\n",
    "        print(f\"{self.nom} émet un son.\")\n",
    "\n",
    "# Sous-classe (enfant) qui hérite de la classe de base\n",
    "class Chien(Animal):\n",
    "    def __init__(self, nom, race):\n",
    "        # Appeler le constructeur de la classe parente avec super()\n",
    "        super().__init__(nom)\n",
    "        self.race = race\n",
    "\n",
    "    # Redéfinir la méthode parler de la classe parente\n",
    "    def parler(self):\n",
    "        print(f\"{self.nom} dit 'Woof!'\")\n",
    "\n",
    "# Créer une instance de la classe de base\n",
    "animal_generic = Animal(\"Créature\")\n",
    "\n",
    "# Créer une instance de la sous-classe\n",
    "mon_chien = Chien(\"Buddy\", \"Labrador\")\n",
    "\n",
    "# Appeler la méthode parler de la classe de base\n",
    "animal_generic.parler()\n",
    "\n",
    "# Appeler la méthode parler de la sous-classe\n",
    "mon_chien.parler()\n"
   ]
  },
  {
   "cell_type": "markdown",
   "metadata": {},
   "source": [
    "### Polymorphisme"
   ]
  },
  {
   "cell_type": "code",
   "execution_count": 29,
   "metadata": {},
   "outputs": [
    {
     "name": "stdout",
     "output_type": "stream",
     "text": [
      "Un rectangle de 15 sur 30\n",
      "a une surface de 15 * 30 = 450\n",
      "et un périmètre de (15 + 30) * 2 = 90\n",
      "\n",
      "Un carré de 13 de coté\n",
      "a une surface de 13 * 13 = 169\n",
      "et un périmètre de (13 + 13) * 2 = 52\n",
      "\n"
     ]
    }
   ],
   "source": [
    "class Rectangle:\n",
    "    \"Classe de rectangles\"\n",
    "    def __init__(self, longueur =30, largeur =15):\n",
    "        self.L = longueur\n",
    "        self.l = largeur\n",
    "        self.nom =\"rectangle\"\n",
    " \n",
    "    def perimetre(self):\n",
    "        return \"(%s + %s) * 2 = %s\" % (self.L, self.l, \n",
    "                                            (self.L + self.l)*2)\n",
    "    def surface(self):\n",
    "        return \"%s * %s = %s\" % (self.L, self.l, self.L*self.l)\n",
    " \n",
    "    def mesures(self):\n",
    "        print (\"Un %s de %s sur %s\" % (self.nom, self.L, self.l))\n",
    "        print (\"a une surface de %s\" % (self.surface(),))\n",
    "        print (\"et un périmètre de %s\\n\" % (self.perimetre(),))\n",
    " \n",
    "\n",
    "class formeCarre(Rectangle):\n",
    "    \"Classe de carrés\"\n",
    "    def __init__(self, cote =10):\n",
    "        Rectangle.__init__(self, cote, cote)\n",
    "        self.nom =\"carré\"\n",
    "    \n",
    "    def mesures(self):\n",
    "        print (\"Un %s de %s de coté\" % (self.nom, self.l))\n",
    "        print (\"a une surface de %s\" % (self.surface(),))\n",
    "        print (\"et un périmètre de %s\\n\" % (self.perimetre(),))\n",
    "\n",
    "\n",
    "r1 = Rectangle(15, 30)\n",
    "r1.mesures()    \n",
    "c1 = formeCarre(13)\n",
    "c1.mesures()"
   ]
  },
  {
   "cell_type": "markdown",
   "metadata": {},
   "source": [
    "### Exercise 2 : Objet Géometrique\n",
    "\n",
    "* Créez une classe Point qui représente un point dans l'espace 2D. Chaque point a une coordonnée x et une coordonnée y.\n",
    "* Créez une classe ObjetGeometrique qui sera la classe parente pour Segment, Rectangle et Cercle. Ajoutez des attributs tels que le nom de l'objet et la couleur. Ajoutez une méthode pour afficher le nom de l'objet.\n",
    "* Créez une classe Segment qui hérite de ObjetGeometrique et représente un segment de droite entre deux points. Un segment est défini par deux instances de la classe Point.\n",
    "* Créez une classe Rectangle qui hérite de ObjetGeometrique et est définie par deux instances de la classe Point, représentant les coins opposés d'un rectangle. Ajoutez des méthodes pour calculer le périmètre et l'aire du rectangle.\n",
    "* Créez une classe Cercle qui hérite de ObjetGeometrique et est définie par un centre (instance de Point) et un rayon. Ajoutez des méthodes pour calculer le périmètre et l'aire du cercle.\n",
    "* Pour chaque classe, ajoutez une méthode __str__ pour afficher une représentation en chaîne de caractères de l'objet, incluant le nom et la couleur.\n",
    "* Créez quelques instances de Point, Segment, Rectangle et Cercle.\n",
    "* Utilisez la méthode print pour afficher chaque objet géométrique, son nom, sa couleur, ainsi que son périmètre/aire associé."
   ]
  },
  {
   "cell_type": "code",
   "execution_count": 34,
   "metadata": {},
   "outputs": [
    {
     "name": "stdout",
     "output_type": "stream",
     "text": [
      "Nom de l'objet : Segment AB\n",
      "Nom de l'objet : Rectangle CD\n",
      "Nom de l'objet : Cercle O\n",
      "Périmètre du rectangle : 14\n",
      "Aire du rectangle : 12\n",
      "Périmètre du cercle : 31.400000000000002\n",
      "Aire du cercle : 78.5\n"
     ]
    }
   ],
   "source": [
    "import math\n",
    "\n",
    "class Point:\n",
    "    def __init__(self, x, y):\n",
    "        self.x = x\n",
    "        self.y = y\n",
    "\n",
    "class ObjetGeometrique:\n",
    "    def __init__(self, nom, couleur):\n",
    "        self.nom = nom\n",
    "        self.couleur = couleur\n",
    "\n",
    "    def afficher_nom(self):\n",
    "        print(f\"Nom de l'objet : {self.nom}\")\n",
    "\n",
    "class Segment(ObjetGeometrique):\n",
    "    def __init__(self, point1, point2, nom, couleur):\n",
    "        super().__init__(nom, couleur)\n",
    "        self.point1 = point1\n",
    "        self.point2 = point2\n",
    "\n",
    "class Rectangle(ObjetGeometrique):\n",
    "    def __init__(self, coin1, coin2, nom, couleur):\n",
    "        super().__init__(nom, couleur)\n",
    "        self.coin1 = coin1\n",
    "        self.coin2 = coin2\n",
    "\n",
    "    def calculer_perimetre(self):\n",
    "        longueur = abs(self.coin2.x - self.coin1.x)\n",
    "        largeur = abs(self.coin2.y - self.coin1.y)\n",
    "        return 2 * (longueur + largeur)\n",
    "\n",
    "    def calculer_aire(self):\n",
    "        longueur = abs(self.coin2.x - self.coin1.x)\n",
    "        largeur = abs(self.coin2.y - self.coin1.y)\n",
    "        return longueur * largeur\n",
    "\n",
    "class Cercle(ObjetGeometrique):\n",
    "    def __init__(self, centre, rayon, nom, couleur):\n",
    "        super().__init__(nom, couleur)\n",
    "        self.centre = centre\n",
    "        self.rayon = rayon\n",
    "\n",
    "    def calculer_perimetre(self):\n",
    "        return 2 * math.pi * self.rayon\n",
    "\n",
    "    def calculer_aire(self):\n",
    "        return math.pi * self.rayon**2\n",
    "\n",
    "# Création d'instances\n",
    "point_A = Point(0, 0)\n",
    "point_B = Point(3, 4)\n",
    "\n",
    "segment_AB = Segment(point_A, point_B, \"Segment AB\", \"Bleu\")\n",
    "rectangle_CD = Rectangle(point_A, point_B, \"Rectangle CD\", \"Vert\")\n",
    "cercle_O = Cercle(point_A, 5, \"Cercle O\", \"Rouge\")\n",
    "\n",
    "# Affichage des noms\n",
    "segment_AB.afficher_nom()\n",
    "rectangle_CD.afficher_nom()\n",
    "cercle_O.afficher_nom()\n",
    "\n",
    "# Calcul et affichage des périmètres et aires\n",
    "print(f\"Périmètre du rectangle : {rectangle_CD.calculer_perimetre()}\")\n",
    "print(f\"Aire du rectangle : {rectangle_CD.calculer_aire()}\")\n",
    "\n",
    "print(f\"Périmètre du cercle : {cercle_O.calculer_perimetre()}\")\n",
    "print(f\"Aire du cercle : {cercle_O.calculer_aire()}\")\n"
   ]
  },
  {
   "cell_type": "markdown",
   "metadata": {},
   "source": [
    "### Exercice 3 : Jeu de Cartes\n",
    "* Créez une classe **Carte** qui représente une carte à jouer. Chaque carte doit avoir une valeur (2 à 10, Valet, Dame, Roi, As) et une enseigne (Cœur, Pique, Carreau, Trèfle).\n",
    "* Créez une classe **Deck** qui représente un jeu de cartes complet. Le jeu de cartes doit être initialisé avec toutes les cartes possibles (52 cartes).\n",
    "* Ajoutez une méthode à la classe **Deck** pour mélanger les cartes.\n",
    "* Ajoutez une méthode à la classe **Deck** pour distribuer une carte du dessus du jeu.\n",
    "* Créez une classe **Joueur** qui peut recevoir des cartes et les stocker dans sa main.\n",
    "* Ajoutez une méthode à la classe Joueur pour jouer une carte de sa main.\n",
    "* Créez une classe Partie qui utilise les classes **Carte**, **Deck** et **Joueur** pour simuler une partie de jeu de cartes. Distribuez les cartes aux joueurs, effectuez quelques tours de jeu et affichez le résultat."
   ]
  },
  {
   "cell_type": "code",
   "execution_count": 33,
   "metadata": {},
   "outputs": [
    {
     "name": "stdout",
     "output_type": "stream",
     "text": [
      "Joueur 1 a joué : 10 de Pique\n",
      "Joueur 2 a joué : 2 de Trèfle\n",
      "Joueur 3 a joué : As de Carreau\n",
      "Joueur 1 a joué : 9 de Pique\n",
      "Joueur 2 a joué : Roi de Cœur\n",
      "Joueur 3 a joué : Roi de Pique\n",
      "Joueur 1 a joué : 10 de Trèfle\n",
      "Joueur 2 a joué : As de Pique\n",
      "Joueur 3 a joué : As de Trèfle\n",
      "Joueur 1 a joué : Dame de Trèfle\n",
      "Joueur 2 a joué : Dame de Cœur\n",
      "Joueur 3 a joué : 4 de Pique\n",
      "Joueur 1 a joué : Dame de Carreau\n",
      "Joueur 2 a joué : 9 de Cœur\n",
      "Joueur 3 a joué : 7 de Trèfle\n"
     ]
    }
   ],
   "source": [
    "import random\n",
    "\n",
    "class Carte:\n",
    "    def __init__(self, valeur, enseigne):\n",
    "        self.valeur = valeur\n",
    "        self.enseigne = enseigne\n",
    "\n",
    "    def __str__(self):\n",
    "        return f\"{self.valeur} de {self.enseigne}\"\n",
    "\n",
    "class Deck:\n",
    "    def __init__(self):\n",
    "        valeurs = ['2', '3', '4', '5', '6', '7', '8', '9', '10', 'Valet', 'Dame', 'Roi', 'As']\n",
    "        enseignes = ['Cœur', 'Pique', 'Carreau', 'Trèfle']\n",
    "        self.cartes = [Carte(valeur, enseigne) for valeur in valeurs for enseigne in enseignes]\n",
    "\n",
    "    def melanger(self):\n",
    "        random.shuffle(self.cartes)\n",
    "\n",
    "    def distribuer(self):\n",
    "        if len(self.cartes) > 0:\n",
    "            return self.cartes.pop()\n",
    "        else:\n",
    "            print(\"Le deck est vide. Mélangez le deck.\")\n",
    "            return None\n",
    "\n",
    "class Joueur:\n",
    "    def __init__(self, nom):\n",
    "        self.nom = nom\n",
    "        self.main = []\n",
    "\n",
    "    def recevoir_carte(self, carte):\n",
    "        self.main.append(carte)\n",
    "\n",
    "    def jouer_carte(self):\n",
    "        if len(self.main) > 0:\n",
    "            return self.main.pop()\n",
    "        else:\n",
    "            print(f\"{self.nom} n'a plus de carte à jouer.\")\n",
    "            return None\n",
    "\n",
    "class Partie:\n",
    "    def __init__(self, joueurs):\n",
    "        self.deck = Deck()\n",
    "        self.joueurs = [Joueur(nom) for nom in joueurs]\n",
    "\n",
    "    def distribuer_cartes(self):\n",
    "        self.deck.melanger()\n",
    "        for _ in range(5):  # Distribuer 5 cartes à chaque joueur\n",
    "            for joueur in self.joueurs:\n",
    "                carte = self.deck.distribuer()\n",
    "                if carte:\n",
    "                    joueur.recevoir_carte(carte)\n",
    "\n",
    "    def jouer(self):\n",
    "        self.distribuer_cartes()\n",
    "\n",
    "        for _ in range(5):  # Simuler 5 tours de jeu\n",
    "            for joueur in self.joueurs:\n",
    "                carte_jouee = joueur.jouer_carte()\n",
    "                if carte_jouee:\n",
    "                    print(f\"{joueur.nom} a joué : {carte_jouee}\")\n",
    "\n",
    "# Exemple d'utilisation\n",
    "joueurs = [\"Joueur 1\", \"Joueur 2\", \"Joueur 3\"]\n",
    "partie = Partie(joueurs)\n",
    "partie.jouer()\n"
   ]
  }
 ],
 "metadata": {
  "kernelspec": {
   "display_name": "base",
   "language": "python",
   "name": "python3"
  },
  "language_info": {
   "codemirror_mode": {
    "name": "ipython",
    "version": 3
   },
   "file_extension": ".py",
   "mimetype": "text/x-python",
   "name": "python",
   "nbconvert_exporter": "python",
   "pygments_lexer": "ipython3",
   "version": "3.10.7"
  }
 },
 "nbformat": 4,
 "nbformat_minor": 2
}
