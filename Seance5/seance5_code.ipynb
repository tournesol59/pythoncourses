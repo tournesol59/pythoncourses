{
 "cells": [
  {
   "cell_type": "markdown",
   "metadata": {},
   "source": [
    "### Heritage\n",
    "L'héritage est un concept fondamental de la programmation orientée objet (POO) qui permet à une classe (appelée sous-classe ou classe dérivée) d'hériter des attributs et des méthodes d'une autre classe (appelée classe de base ou superclasse). L'héritage favorise la réutilisation du code et la création d'une hiérarchie de classes.\n",
    "\n",
    "Voici un exemple simple d'héritage en Python :"
   ]
  },
  {
   "cell_type": "code",
   "execution_count": null,
   "metadata": {},
   "outputs": [],
   "source": [
    "class Animal:\n",
    "    def __init__(self, nom, couleur):\n",
    "        self.nom = nom\n",
    "        self.couleur = couleur\n",
    "\n",
    "    def faire_son(self):\n",
    "        pass  # Méthode abstraite\n",
    "\n",
    "class Chien(Animal):\n",
    "    def faire_son(self):\n",
    "        return \"Woof!\"\n",
    "\n",
    "class Chat(Animal):\n",
    "    def faire_son(self):\n",
    "        return \"Meow!\"\n",
    "\n",
    "# Création d'instances\n",
    "chien = Chien(\"Buddy\", \"Marron\")\n",
    "chat = Chat(\"Whiskers\", \"Gris\")\n",
    "\n",
    "# Utilisation des méthodes héritées\n",
    "print(f\"{chien.nom} fait : {chien.faire_son()}\")\n",
    "print(f\"{chat.nom} fait : {chat.faire_son()}\")"
   ]
  },
  {
   "cell_type": "markdown",
   "metadata": {},
   "source": [
    "### Héritage et Surcharge\n",
    "La programmation orientée objet (POO) en Python permet l'utilisation d'héritage, de surcharge de méthodes et de la fonction super() pour appeler la méthode de la classe parente. Voici un exemple illustrant ces concepts :"
   ]
  },
  {
   "cell_type": "code",
   "execution_count": null,
   "metadata": {},
   "outputs": [],
   "source": [
    "class Forme:\n",
    "    def __init__(self, couleur):\n",
    "        self.couleur = couleur\n",
    "\n",
    "    def aire(self):\n",
    "        pass\n",
    "\n",
    "class Rectangle(Forme):\n",
    "    def __init__(self, couleur, longueur, largeur):\n",
    "        super().__init__(couleur)\n",
    "        self.longueur = longueur\n",
    "        self.largeur = largeur\n",
    "\n",
    "    def aire(self):\n",
    "        return self.longueur * self.largeur\n",
    "\n",
    "class Cercle(Forme):\n",
    "    def __init__(self, couleur, rayon):\n",
    "        super().__init__(couleur)\n",
    "        self.rayon = rayon\n",
    "\n",
    "    def aire(self):\n",
    "        return 3.14 * self.rayon**2\n",
    "\n",
    "# Utilisation des classes\n",
    "rectangle = Rectangle(couleur=\"rouge\", longueur=5, largeur=3)\n",
    "cercle = Cercle(couleur=\"bleu\", rayon=2)\n",
    "\n",
    "# Appel de la méthode aire() pour chaque objet\n",
    "print(f\"Aire du rectangle : {rectangle.aire()}\")\n",
    "print(f\"Aire du cercle : {cercle.aire()}\")\n"
   ]
  },
  {
   "cell_type": "markdown",
   "metadata": {},
   "source": [
    "Dans cet exemple, nous avons une classe de base ***Forme*** avec une méthode ***aire()*** non implémentée. Ensuite, deux classes dérivées (***Rectangle*** et ***Cercle***) héritent de la classe Forme. Chaque classe dérivée implémente la méthode ***aire()*** en fonction de sa propre logique.\n",
    "\n",
    "La fonction ***super()*** est utilisée dans les méthodes __\\_\\_init\\_\\___ des classes dérivées pour appeler le constructeur de la classe parente (***Forme*** dans ce cas). Cela permet d'initialiser les attributs hérités de la classe parente.\n",
    "\n",
    "L'utilisation de l'héritage et de la surcharge de méthodes permet de créer des hiérarchies de classes, réutilisant le code déjà écrit et permettant une extension facile du code pour de nouveaux types de formes."
   ]
  },
  {
   "cell_type": "markdown",
   "metadata": {},
   "source": [
    "> ***Surcharge des opérateurs*** </br>\n",
    "> La surcharge des opérateurs en Python est réalisée en redéfinissant certaines méthodes spéciales dans une classe. Ces méthodes spéciales sont appelées méthodes du double souligné (dunder methods). Voici quelques-unes des méthodes de surcharge des opérateurs les plus couramment utilisées en Python :\n",
    "\n",
    "* Opérateur d'addition (+): \\_\\_add\\_\\_\n",
    "* Opérateur de soustraction (-): \\_\\_sub\\_\\_\n",
    "* Opérateur de multiplication (*): \\_\\_mul\\_\\_\n",
    "* Opérateur de division (/): \\_\\_truediv\\_\\_\n",
    "* Opérateur de puissance (): \\_\\_pow\\_\\_\\*\\*\n",
    "* Opérateur de modulo (%): \\_\\_mod\\_\\_\n",
    "* Opérateur d'égalité (==): \\_\\_eq\\_\\_\n",
    "* Opérateur d'inégalité (!=): \\_\\_ne\\_\\_\n",
    "* Opérateur de comparaison (<, <=, >, >=): \\_\\_lt\\_\\_, \\_\\_le\\_\\_, \\_\\_gt\\_\\_, \\_\\_ge\\_\\_\n",
    "* Opérateur de conversion en chaîne de caractères (str()): \\_\\_str\\_\\_\n",
    "* Opérateur d'affichage (print()): \\_\\_repr\\_\\_\n",
    "* Il existe d'autres fonctions qui s'appliquent aux séquences, telles que les séquences (\\_\\_len\\_\\_, \\_\\_iter\\_\\_…)."
   ]
  },
  {
   "cell_type": "code",
   "execution_count": 1,
   "metadata": {},
   "outputs": [
    {
     "name": "stdout",
     "output_type": "stream",
     "text": [
      "Vecteur(4.6, 6.8)\n"
     ]
    }
   ],
   "source": [
    "## Exemple 1\n",
    "class Vecteur2D:\n",
    "    def __init__(self, x0, y0):\n",
    "        self.x = x0\n",
    "        self.y = y0\n",
    "\n",
    "    def __add__(self, second): # addition vectorielle\n",
    "        return Vecteur2D(self.x + second.x, self.y + second.y)\n",
    "    \n",
    "    def __str__(self): # affichage d'un Vecteur2D\n",
    "        return \"Vecteur({:g}, {:g})\".format(self.x, self.y)\n",
    "    \n",
    "v1 = Vecteur2D(1.2, 2.3)\n",
    "v2 = Vecteur2D(3.4, 4.5)\n",
    "\n",
    "print(v1 + v2)\n",
    "# Vecteur(4.6, 6.8)"
   ]
  },
  {
   "cell_type": "code",
   "execution_count": 2,
   "metadata": {},
   "outputs": [
    {
     "name": "stdout",
     "output_type": "stream",
     "text": [
      "Addition : 4 + 6i\n",
      "Soustraction : 2 + 2i\n",
      "Multiplication : -5 + 10i\n",
      "Division : 2.2 + -0.4i\n"
     ]
    }
   ],
   "source": [
    "## Exemple 2\n",
    "class Complexe:\n",
    "    def __init__(self, reel, imaginaire):\n",
    "        self.reel = reel\n",
    "        self.imaginaire = imaginaire\n",
    "\n",
    "    def __add__(self, other):\n",
    "        # Surcharge de l'opérateur d'addition\n",
    "        nouveau_reel = self.reel + other.reel\n",
    "        nouveau_imaginaire = self.imaginaire + other.imaginaire\n",
    "        return Complexe(nouveau_reel, nouveau_imaginaire)\n",
    "\n",
    "    def __sub__(self, other):\n",
    "        # Surcharge de l'opérateur de soustraction\n",
    "        nouveau_reel = self.reel - other.reel\n",
    "        nouveau_imaginaire = self.imaginaire - other.imaginaire\n",
    "        return Complexe(nouveau_reel, nouveau_imaginaire)\n",
    "\n",
    "    def __mul__(self, other):\n",
    "        # Surcharge de l'opérateur de multiplication\n",
    "        nouveau_reel = self.reel * other.reel - self.imaginaire * other.imaginaire\n",
    "        nouveau_imaginaire = self.reel * other.imaginaire + self.imaginaire * other.reel\n",
    "        return Complexe(nouveau_reel, nouveau_imaginaire)\n",
    "\n",
    "    def __truediv__(self, other):\n",
    "        # Surcharge de l'opérateur de division\n",
    "        denominateur = other.reel**2 + other.imaginaire**2\n",
    "        nouveau_reel = (self.reel * other.reel + self.imaginaire * other.imaginaire) / denominateur\n",
    "        nouveau_imaginaire = (self.imaginaire * other.reel - self.reel * other.imaginaire) / denominateur\n",
    "        return Complexe(nouveau_reel, nouveau_imaginaire)\n",
    "\n",
    "    def __str__(self):\n",
    "        return f\"{self.reel} + {self.imaginaire}i\"\n",
    "\n",
    "# Exemple d'utilisation\n",
    "complexe1 = Complexe(reel=3, imaginaire=4)\n",
    "complexe2 = Complexe(reel=1, imaginaire=2)\n",
    "\n",
    "# Utilisation des opérateurs surchargés\n",
    "resultat_addition = complexe1 + complexe2\n",
    "resultat_soustraction = complexe1 - complexe2\n",
    "resultat_multiplication = complexe1 * complexe2\n",
    "resultat_division = complexe1 / complexe2\n",
    "\n",
    "# Affichage des résultats\n",
    "print(\"Addition :\", resultat_addition)\n",
    "print(\"Soustraction :\", resultat_soustraction)\n",
    "print(\"Multiplication :\", resultat_multiplication)\n",
    "print(\"Division :\", resultat_division)"
   ]
  },
  {
   "cell_type": "code",
   "execution_count": 3,
   "metadata": {},
   "outputs": [
    {
     "name": "stdout",
     "output_type": "stream",
     "text": [
      "Somme des points : Point(4, 6)\n",
      "Différence des points : Point(-2, -2)\n",
      "Les points sont égaux : False\n"
     ]
    }
   ],
   "source": [
    "## Exemple 3\n",
    "class Point:\n",
    "    def __init__(self, x, y):\n",
    "        self.x = x\n",
    "        self.y = y\n",
    "\n",
    "    # Surcharge de l'opérateur d'addition\n",
    "    def __add__(self, other):\n",
    "        return Point(self.x + other.x, self.y + other.y)\n",
    "\n",
    "    # Surcharge de l'opérateur de soustraction\n",
    "    def __sub__(self, other):\n",
    "        return Point(self.x - other.x, self.y - other.y)\n",
    "\n",
    "    # Surcharge de l'opérateur d'égalité\n",
    "    def __eq__(self, other):\n",
    "        return self.x == other.x and self.y == other.y\n",
    "\n",
    "    # Surcharge de la conversion en chaîne de caractères\n",
    "    def __str__(self):\n",
    "        return f\"Point({self.x}, {self.y})\"\n",
    "\n",
    "# Exemple d'utilisation\n",
    "point1 = Point(1, 2)\n",
    "point2 = Point(3, 4)\n",
    "\n",
    "# Utilisation des opérateurs surchargés\n",
    "somme_points = point1 + point2\n",
    "difference_points = point1 - point2\n",
    "\n",
    "# Affichage des résultats\n",
    "print(\"Somme des points :\", somme_points)\n",
    "print(\"Différence des points :\", difference_points)\n",
    "print(\"Les points sont égaux :\", point1 == point2)"
   ]
  },
  {
   "cell_type": "markdown",
   "metadata": {},
   "source": [
    "### Héritage et polymorphisme\n",
    "**Héritage** :</br>\n",
    "L'héritage est un mécanisme qui permet à une classe d'hériter des attributs et des méthodes d'une autre classe. La classe qui hérite est appelée la classe dérivée, classe fille ou sous-classe, tandis que la classe dont elle hérite est appelée la classe de base, classe parente ou superclasse. </br>\n",
    "Objectif : Favorise la réutilisation du code en permettant à une classe de profiter de la structure et du comportement d'une autre classe.</br>\n",
    "\n",
    "**Surcharge** :</br>\n",
    "La surcharge (ou redéfinition) permet à une classe dérivée de fournir une implémentation spécifique pour une méthode déjà définie dans la classe de base. Les méthodes de la classe dérivée portent le même nom que celles de la classe de base.</br>\n",
    "Objectif : Permet à une classe dérivée de personnaliser le comportement d'une méthode héritée sans changer son nom.</br>\n",
    "\n",
    "**Polymorphisme** :</br>\n",
    "Le polymorphisme permet à un objet d'adopter plusieurs formes. En POO, cela se manifeste souvent par la capacité d'une classe à fournir une implémentation spécifique d'une méthode héritée, ce qui permet à des objets de différentes classes d'être traités de manière homogène.</br>\n",
    "Objectif : Facilite l'écriture de code plus générique et flexible en traitant différents objets de manière uniforme.</br>"
   ]
  },
  {
   "cell_type": "code",
   "execution_count": 6,
   "metadata": {},
   "outputs": [
    {
     "name": "stdout",
     "output_type": "stream",
     "text": [
      "Les animaux ne parlent pas.\n",
      "Le chien aboie.\n",
      "Le chat miaule.\n"
     ]
    }
   ],
   "source": [
    "# Exemple 4\n",
    "# Dans cet exemple, Chien et Chat héritent de la classe Animal. Chacune des classes dérivées surcharge la méthode parler pour fournir une implémentation spécifique. L'utilisation du polymorphisme permet d'appeler la méthode parler sur des objets de types différents de manière homogène dans la boucle for.\n",
    "\n",
    "class Animal:\n",
    "    def parler(self):\n",
    "        print(\"Les animaux ne parlent pas.\")\n",
    "\n",
    "class Chien(Animal):\n",
    "    def parler(self):\n",
    "        print(\"Le chien aboie.\")\n",
    "\n",
    "class Chat(Animal):\n",
    "    def parler(self):\n",
    "        print(\"Le chat miaule.\")\n",
    "\n",
    "# Utilisation de l'héritage, de la surcharge et du polymorphisme\n",
    "animal = Animal()\n",
    "chien = Chien()\n",
    "chat = Chat()\n",
    "\n",
    "# Polymorphisme : appeler la méthode parler sur des objets de types différents\n",
    "animaux = [animal, chien, chat]\n",
    "for a in animaux:\n",
    "    a.parler()\n"
   ]
  },
  {
   "cell_type": "code",
   "execution_count": 5,
   "metadata": {},
   "outputs": [
    {
     "name": "stdout",
     "output_type": "stream",
     "text": [
      "Aire du carré : 25\n",
      "Aire du cercle : 28.259999999999998\n"
     ]
    }
   ],
   "source": [
    "# Exemple 5\n",
    "# Dans cet exemple, les classes Carre et Cercle héritent de la classe de base Forme et redéfinissent la méthode aire pour calculer l'aire spécifique à chaque forme. La fonction calculer_aire utilise le polymorphisme en appelant la méthode aire sur un objet de type Forme. Cela permet d'appliquer la même fonction à des objets de types différents de manière transparente.\n",
    "\n",
    "class Forme:\n",
    "    def aire(self):\n",
    "        pass\n",
    "\n",
    "class Carre(Forme):\n",
    "    def __init__(self, cote):\n",
    "        self.cote = cote\n",
    "\n",
    "    def aire(self):\n",
    "        return self.cote * self.cote\n",
    "\n",
    "class Cercle(Forme):\n",
    "    def __init__(self, rayon):\n",
    "        self.rayon = rayon\n",
    "\n",
    "    def aire(self):\n",
    "        return 3.14 * self.rayon * self.rayon\n",
    "\n",
    "# Fonction générique qui utilise le polymorphisme\n",
    "def calculer_aire(forme):\n",
    "    return forme.aire()\n",
    "\n",
    "# Création d'objets de différentes classes\n",
    "carre = Carre(5)\n",
    "cercle = Cercle(3)\n",
    "\n",
    "# Utilisation de la fonction générique avec des objets de types différents\n",
    "aire_carre = calculer_aire(carre)\n",
    "aire_cercle = calculer_aire(cercle)\n",
    "\n",
    "# Affichage des résultats\n",
    "print(\"Aire du carré :\", aire_carre)\n",
    "print(\"Aire du cercle :\", aire_cercle)\n"
   ]
  },
  {
   "cell_type": "markdown",
   "metadata": {},
   "source": [
    "### Abstraction\n",
    "En programmation orientée objet (POO), une classe abstraite est une classe si et seulement si elle n'est pas instanciable. Elle sert de base à d'autres classes dérivées (héritées). Le mécanisme des classes abstraites permet de définir des comportements (méthodes) dont l'implémentation (le code dans la méthode) se fait dans les classes filles. Ainsi, on a l'assurance que les classes filles respecteront le contrat défini par la classe mère abstraite. Ce contrat est une interface de programmation. </br>\n",
    "\n",
    "En Python, une classe abstraite est une classe qui ne peut pas être instanciée directement. Elle est souvent utilisée comme classe de base pour d'autres classes, fournissant une interface commune et déclarant des méthodes que les classes dérivées doivent implémenter. On utilise le module ***abc*** (Abstract Base Classes) pour définir des classes abstraites. </br>"
   ]
  },
  {
   "cell_type": "code",
   "execution_count": 7,
   "metadata": {},
   "outputs": [
    {
     "ename": "TypeError",
     "evalue": "Carre.aire() missing 1 required positional argument: 'x'",
     "output_type": "error",
     "traceback": [
      "\u001b[1;31m---------------------------------------------------------------------------\u001b[0m",
      "\u001b[1;31mTypeError\u001b[0m                                 Traceback (most recent call last)",
      "\u001b[1;32mc:\\Users\\baban\\Desktop\\COURS ATER 2023-2024\\UTC503\\Contenu - Baban\\Seance5\\Untitled-1.ipynb Cell 14\u001b[0m line \u001b[0;36m3\n\u001b[0;32m     <a href='vscode-notebook-cell:/c%3A/Users/baban/Desktop/COURS%20ATER%202023-2024/UTC503/Contenu%20-%20Baban/Seance5/Untitled-1.ipynb#X16sZmlsZQ%3D%3D?line=30'>31</a>\u001b[0m cercle \u001b[39m=\u001b[39m Cercle(\u001b[39m3\u001b[39m)\n\u001b[0;32m     <a href='vscode-notebook-cell:/c%3A/Users/baban/Desktop/COURS%20ATER%202023-2024/UTC503/Contenu%20-%20Baban/Seance5/Untitled-1.ipynb#X16sZmlsZQ%3D%3D?line=32'>33</a>\u001b[0m \u001b[39m# Utilisation de la fonction générique avec des objets de types différents\u001b[39;00m\n\u001b[1;32m---> <a href='vscode-notebook-cell:/c%3A/Users/baban/Desktop/COURS%20ATER%202023-2024/UTC503/Contenu%20-%20Baban/Seance5/Untitled-1.ipynb#X16sZmlsZQ%3D%3D?line=33'>34</a>\u001b[0m aire_carre \u001b[39m=\u001b[39m calculer_aire(carre)\n\u001b[0;32m     <a href='vscode-notebook-cell:/c%3A/Users/baban/Desktop/COURS%20ATER%202023-2024/UTC503/Contenu%20-%20Baban/Seance5/Untitled-1.ipynb#X16sZmlsZQ%3D%3D?line=34'>35</a>\u001b[0m aire_cercle \u001b[39m=\u001b[39m calculer_aire(cercle)\n\u001b[0;32m     <a href='vscode-notebook-cell:/c%3A/Users/baban/Desktop/COURS%20ATER%202023-2024/UTC503/Contenu%20-%20Baban/Seance5/Untitled-1.ipynb#X16sZmlsZQ%3D%3D?line=36'>37</a>\u001b[0m \u001b[39m# Affichage des résultats\u001b[39;00m\n",
      "\u001b[1;32mc:\\Users\\baban\\Desktop\\COURS ATER 2023-2024\\UTC503\\Contenu - Baban\\Seance5\\Untitled-1.ipynb Cell 14\u001b[0m line \u001b[0;36m2\n\u001b[0;32m     <a href='vscode-notebook-cell:/c%3A/Users/baban/Desktop/COURS%20ATER%202023-2024/UTC503/Contenu%20-%20Baban/Seance5/Untitled-1.ipynb#X16sZmlsZQ%3D%3D?line=25'>26</a>\u001b[0m \u001b[39mdef\u001b[39;00m \u001b[39mcalculer_aire\u001b[39m(forme):\n\u001b[1;32m---> <a href='vscode-notebook-cell:/c%3A/Users/baban/Desktop/COURS%20ATER%202023-2024/UTC503/Contenu%20-%20Baban/Seance5/Untitled-1.ipynb#X16sZmlsZQ%3D%3D?line=26'>27</a>\u001b[0m     \u001b[39mreturn\u001b[39;00m forme\u001b[39m.\u001b[39;49maire()\n",
      "\u001b[1;31mTypeError\u001b[0m: Carre.aire() missing 1 required positional argument: 'x'"
     ]
    }
   ],
   "source": [
    "from abc import ABC, abstractmethod\n",
    "\n",
    "# Classe abstraite\n",
    "class Forme(ABC):\n",
    "    @abstractmethod\n",
    "    def aire(self):\n",
    "        pass\n",
    "\n",
    "# Classe dérivée (concrète)\n",
    "class Carre(Forme):\n",
    "    def __init__(self, cote):\n",
    "        self.cote = cote\n",
    "\n",
    "    def aire(self,x):\n",
    "        return self.cote * self.cote\n",
    "\n",
    "# Classe dérivée (concrète)\n",
    "class Cercle(Forme):\n",
    "    def __init__(self, rayon):\n",
    "        self.rayon = rayon\n",
    "\n",
    "    def aire(self):\n",
    "        return 3.14 * self.rayon * self.rayon\n",
    "\n",
    "# Fonction générique qui utilise le polymorphisme\n",
    "def calculer_aire(forme):\n",
    "    return forme.aire()\n",
    "\n",
    "# Création d'objets de différentes classes\n",
    "carre = Carre(5)\n",
    "cercle = Cercle(3)\n",
    "\n",
    "# Utilisation de la fonction générique avec des objets de types différents\n",
    "aire_carre = calculer_aire(carre)\n",
    "aire_cercle = calculer_aire(cercle)\n",
    "\n",
    "# Affichage des résultats\n",
    "print(\"Aire du carré :\", aire_carre)\n",
    "print(\"Aire du cercle :\", aire_cercle)"
   ]
  },
  {
   "cell_type": "markdown",
   "metadata": {},
   "source": [
    "### Encapsulation \n",
    "L'encapsulation en programmation orientée objet (POO) est le principe de regrouper les données (attributs) et les méthodes qui les manipulent au sein d'une même entité appelée classe. L'objectif est de restreindre l'accès direct aux données internes d'un objet et de fournir un accès contrôlé via des méthodes. </br>\n",
    "\n",
    "En Python, l'encapsulation est mise en œuvre à l'aide de conventions de nommage et de la visibilité des attributs. Voici quelques points clés liés à l'encapsulation en POO Python :\n",
    "\n",
    "* Attributs et Méthodes privés : Les attributs ou méthodes dont le nom commence par un double souligné __ sont considérés comme privés. Ils ne peuvent pas être accédés directement depuis l'extérieur de la classe. </br>\n",
    "\n",
    "* Méthodes d'accès : Pour permettre l'accès aux attributs privés, on utilise généralement des méthodes d'accès, telles que des méthodes get et set. Ces méthodes fournissent un moyen contrôlé d'interagir avec les attributs privés. </br>"
   ]
  },
  {
   "cell_type": "markdown",
   "metadata": {},
   "source": [
    "Dans cet exemple, les attributs ***\\_\\_titulaire*** et ***\\_\\_solde*** sont privés. Les méthodes get_titulaire, get_solde, deposer, et retirer fournissent des moyens contrôlés d'accéder et de modifier ces attributs."
   ]
  },
  {
   "cell_type": "code",
   "execution_count": 8,
   "metadata": {},
   "outputs": [
    {
     "name": "stdout",
     "output_type": "stream",
     "text": [
      "Titulaire : Alice\n",
      "Solde : 1000\n",
      "Nouveau solde : 1300\n"
     ]
    },
    {
     "ename": "AttributeError",
     "evalue": "'CompteBancaire' object has no attribute '__titulaire'",
     "output_type": "error",
     "traceback": [
      "\u001b[1;31m---------------------------------------------------------------------------\u001b[0m",
      "\u001b[1;31mAttributeError\u001b[0m                            Traceback (most recent call last)",
      "\u001b[1;32mc:\\Users\\baban\\Desktop\\COURS ATER 2023-2024\\UTC503\\Contenu - Baban\\Seance5\\Untitled-1.ipynb Cell 15\u001b[0m line \u001b[0;36m4\n\u001b[0;32m     <a href='vscode-notebook-cell:/c%3A/Users/baban/Desktop/COURS%20ATER%202023-2024/UTC503/Contenu%20-%20Baban/Seance5/Untitled-1.ipynb#X20sZmlsZQ%3D%3D?line=36'>37</a>\u001b[0m \u001b[39m# Affichage du solde mis à jour\u001b[39;00m\n\u001b[0;32m     <a href='vscode-notebook-cell:/c%3A/Users/baban/Desktop/COURS%20ATER%202023-2024/UTC503/Contenu%20-%20Baban/Seance5/Untitled-1.ipynb#X20sZmlsZQ%3D%3D?line=37'>38</a>\u001b[0m \u001b[39mprint\u001b[39m(\u001b[39m\"\u001b[39m\u001b[39mNouveau solde :\u001b[39m\u001b[39m\"\u001b[39m, compte\u001b[39m.\u001b[39mget_solde())\n\u001b[1;32m---> <a href='vscode-notebook-cell:/c%3A/Users/baban/Desktop/COURS%20ATER%202023-2024/UTC503/Contenu%20-%20Baban/Seance5/Untitled-1.ipynb#X20sZmlsZQ%3D%3D?line=40'>41</a>\u001b[0m \u001b[39mprint\u001b[39m(compte\u001b[39m.\u001b[39;49m__titulaire)\n",
      "\u001b[1;31mAttributeError\u001b[0m: 'CompteBancaire' object has no attribute '__titulaire'"
     ]
    }
   ],
   "source": [
    "class CompteBancaire:\n",
    "    def __init__(self, titulaire, solde):\n",
    "        self.__titulaire = titulaire  # Attribut privé\n",
    "        self.__solde = solde          # Attribut privé\n",
    "\n",
    "    # Méthode d'accès pour obtenir le titulaire\n",
    "    def get_titulaire(self):\n",
    "        return self.__titulaire\n",
    "\n",
    "    # Méthode d'accès pour obtenir le solde\n",
    "    def get_solde(self):\n",
    "        return self.__solde\n",
    "\n",
    "    # Méthode pour effectuer un dépôt\n",
    "    def deposer(self, montant):\n",
    "        if montant > 0:\n",
    "            self.__solde += montant\n",
    "\n",
    "    # Méthode pour effectuer un retrait\n",
    "    def retirer(self, montant):\n",
    "        if 0 < montant <= self.__solde:\n",
    "            self.__solde -= montant\n",
    "        else:\n",
    "            print(\"Opération de retrait impossible.\")\n",
    "\n",
    "# Utilisation de la classe CompteBancaire\n",
    "compte = CompteBancaire(titulaire=\"Alice\", solde=1000)\n",
    "\n",
    "# Accès aux attributs privés via les méthodes d'accès\n",
    "print(\"Titulaire :\", compte.get_titulaire())\n",
    "print(\"Solde :\", compte.get_solde())\n",
    "\n",
    "# Dépôt et retrait\n",
    "compte.deposer(500)\n",
    "compte.retirer(200)\n",
    "\n",
    "# Affichage du solde mis à jour\n",
    "print(\"Nouveau solde :\", compte.get_solde())\n",
    "\n",
    "\n",
    "# print(compte.__titulaire)"
   ]
  },
  {
   "cell_type": "code",
   "execution_count": 11,
   "metadata": {},
   "outputs": [
    {
     "name": "stdout",
     "output_type": "stream",
     "text": [
      "Ceci est une méthode publique.\n",
      "Ceci est une méthode privée.\n"
     ]
    },
    {
     "ename": "AttributeError",
     "evalue": "'MaClasse' object has no attribute '__methode_privee'",
     "output_type": "error",
     "traceback": [
      "\u001b[1;31m---------------------------------------------------------------------------\u001b[0m",
      "\u001b[1;31mAttributeError\u001b[0m                            Traceback (most recent call last)",
      "\u001b[1;32mc:\\Users\\baban\\Desktop\\COURS ATER 2023-2024\\UTC503\\Contenu - Baban\\Seance5\\Untitled-1.ipynb Cell 17\u001b[0m line \u001b[0;36m1\n\u001b[0;32m     <a href='vscode-notebook-cell:/c%3A/Users/baban/Desktop/COURS%20ATER%202023-2024/UTC503/Contenu%20-%20Baban/Seance5/Untitled-1.ipynb#X23sZmlsZQ%3D%3D?line=15'>16</a>\u001b[0m objet\u001b[39m.\u001b[39mmethode_publique()\n\u001b[0;32m     <a href='vscode-notebook-cell:/c%3A/Users/baban/Desktop/COURS%20ATER%202023-2024/UTC503/Contenu%20-%20Baban/Seance5/Untitled-1.ipynb#X23sZmlsZQ%3D%3D?line=17'>18</a>\u001b[0m \u001b[39m# Accès à la méthode privée (à éviter en pratique)\u001b[39;00m\n\u001b[1;32m---> <a href='vscode-notebook-cell:/c%3A/Users/baban/Desktop/COURS%20ATER%202023-2024/UTC503/Contenu%20-%20Baban/Seance5/Untitled-1.ipynb#X23sZmlsZQ%3D%3D?line=18'>19</a>\u001b[0m objet\u001b[39m.\u001b[39;49m__methode_privee()\n",
      "\u001b[1;31mAttributeError\u001b[0m: 'MaClasse' object has no attribute '__methode_privee'"
     ]
    }
   ],
   "source": [
    "class MaClasse:\n",
    "    def __init__(self, donnee):\n",
    "        self._donnee = donnee  # Attribut avec convention de nommage\n",
    "\n",
    "    # Méthode avec convention de nommage\n",
    "    def __methode_privee(self):\n",
    "        print(\"Ceci est une méthode privée.\")\n",
    "\n",
    "    # Méthode publique\n",
    "    def methode_publique(self):\n",
    "        print(\"Ceci est une méthode publique.\")\n",
    "        self.__methode_privee()  # La méthode privée peut être appelée à l'intérieur de la classe\n",
    "\n",
    "# Utilisation de la classe\n",
    "objet = MaClasse(donnee=\"exemple\")\n",
    "objet.methode_publique()\n",
    "\n",
    "# Accès à la méthode privée (à éviter en pratique)\n",
    "objet.__methode_privee()"
   ]
  },
  {
   "cell_type": "markdown",
   "metadata": {},
   "source": [
    "En programmation orientée objet (POO), les getter et setter sont des méthodes qui permettent d'accéder et de modifier les attributs d'une classe de manière contrôlée. En Python, ces méthodes sont généralement utilisées pour garantir l'encapsulation des données en fournissant un moyen d'accéder aux attributs privés tout en contrôlant les opérations qui y sont effectuées."
   ]
  },
  {
   "cell_type": "code",
   "execution_count": 3,
   "metadata": {},
   "outputs": [
    {
     "name": "stdout",
     "output_type": "stream",
     "text": [
      "Valeur initiale de l'attribut : exemple\n",
      "Valeur modifiée de l'attribut : nouvel_exemple\n"
     ]
    }
   ],
   "source": [
    "class MaClasse:\n",
    "    def __init__(self, attribut):\n",
    "        self.__attribut = attribut  # Attribut privé avec convention de nommage\n",
    "\n",
    "    # Getter pour obtenir la valeur de l'attribut\n",
    "    def get_attribut(self):\n",
    "        return self.__attribut\n",
    "\n",
    "    # Setter pour modifier la valeur de l'attribut\n",
    "    def set_attribut(self, nouvelle_valeur):\n",
    "        self.__attribut = nouvelle_valeur\n",
    "\n",
    "# Utilisation de la classe\n",
    "objet = MaClasse(attribut=\"exemple\")\n",
    "valeur_initiale = objet.get_attribut()\n",
    "print(\"Valeur initiale de l'attribut :\", valeur_initiale)\n",
    "\n",
    "# Utilisation du setter pour modifier la valeur\n",
    "objet.set_attribut(nouvelle_valeur=\"nouvel_exemple\")\n",
    "valeur_modifiee = objet.get_attribut()\n",
    "print(\"Valeur modifiée de l'attribut :\", valeur_modifiee)"
   ]
  },
  {
   "cell_type": "code",
   "execution_count": 13,
   "metadata": {},
   "outputs": [
    {
     "name": "stdout",
     "output_type": "stream",
     "text": [
      "setter method called\n",
      "getter method called\n",
      "19\n"
     ]
    }
   ],
   "source": [
    "# Utilisation du mot clé @property \n",
    "# @property \n",
    "  \n",
    "class Geeks: \n",
    "    def __init__(self): \n",
    "        self.__age = 0 # Attribut privé avec convention de nommage\n",
    "       \n",
    "    # Getter décoré avec @property\n",
    "    @property\n",
    "    def age(self): \n",
    "        print(\"getter method called\") \n",
    "        return self.__age \n",
    "\n",
    "    # Setter décoré avec @attribut.setter\n",
    "    @age.setter \n",
    "    def age(self, a): \n",
    "        if(a < 18): \n",
    "            raise ValueError(\"Sorry you age is below eligibility criteria\") \n",
    "        print(\"setter method called\") \n",
    "        self.__age = a \n",
    "  \n",
    "mark = Geeks() \n",
    "  \n",
    "mark.age = 19\n",
    "  \n",
    "print(mark.age) "
   ]
  }
 ],
 "metadata": {
  "kernelspec": {
   "display_name": "base",
   "language": "python",
   "name": "python3"
  },
  "language_info": {
   "codemirror_mode": {
    "name": "ipython",
    "version": 3
   },
   "file_extension": ".py",
   "mimetype": "text/x-python",
   "name": "python",
   "nbconvert_exporter": "python",
   "pygments_lexer": "ipython3",
   "version": "3.10.13"
  }
 },
 "nbformat": 4,
 "nbformat_minor": 2
}
