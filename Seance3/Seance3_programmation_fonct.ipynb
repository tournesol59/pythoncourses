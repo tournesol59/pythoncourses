{
 "cells": [
  {
   "cell_type": "markdown",
   "metadata": {},
   "source": [
    "# TP2 : Programmation fonctionnelle\n",
    ">  *Un programme écrit en style fonctionnel se caractérise essentiellement par une chose : l'absence d'effets de bord. Le code ne dépend pas de données se trouvant à l'extérieur de la fonction courante et il ne modifie pas des données à l'extérieur de cette fonction. Toutes les autres caractéristiques de la programmation fonctionnelle peuvent se déduire de cette propriété. Utilisez-la comme un fil conducteur lors de votre apprentissage.*"
   ]
  },
  {
   "cell_type": "markdown",
   "metadata": {},
   "source": [
    "Voici un exemple de fonction non fonctionnelle :"
   ]
  },
  {
   "cell_type": "code",
   "execution_count": 49,
   "metadata": {},
   "outputs": [],
   "source": [
    "a = 0\n",
    "def increment():\n",
    "    global a\n",
    "    a += 1\n"
   ]
  },
  {
   "cell_type": "code",
   "execution_count": null,
   "metadata": {},
   "outputs": [],
   "source": [
    "# Fonction pour calculer la factorielle d'un nombre en programmation impérative\n",
    "def factorial_iterative(n):\n",
    "    result = 1\n",
    "    for i in range(1, n + 1):\n",
    "        result *= i\n",
    "    return result\n",
    "\n",
    "# Utilisation de la fonction pour calculer la factorielle de 5\n",
    "result = factorial_iterative(5)\n",
    "\n",
    "# Afficher le résultat\n",
    "print(f\"La factorielle de 5 est : {result}\")"
   ]
  },
  {
   "cell_type": "markdown",
   "metadata": {},
   "source": [
    "Et voici une fonction fonctionnelle :"
   ]
  },
  {
   "cell_type": "code",
   "execution_count": null,
   "metadata": {},
   "outputs": [],
   "source": [
    "def increment(a):\n",
    "    return a + 1"
   ]
  },
  {
   "cell_type": "code",
   "execution_count": 1,
   "metadata": {},
   "outputs": [
    {
     "name": "stdout",
     "output_type": "stream",
     "text": [
      "La factorielle de 5 est : 120\n"
     ]
    }
   ],
   "source": [
    "from functools import reduce\n",
    "\n",
    "# Fonction récursive pour calculer la factorielle d'un nombre\n",
    "def factorial(n):\n",
    "    # Cas de base : 0! et 1! sont égaux à 1\n",
    "    if n == 0 or n == 1:\n",
    "        return 1\n",
    "    # Appel récursif : n! = n * (n-1)!\n",
    "    else:\n",
    "        return n * factorial(n - 1)\n",
    "\n",
    "# Utilisation de la fonction pour calculer la factorielle de 5\n",
    "result = factorial(5)\n",
    "\n",
    "# Afficher le résultat\n",
    "print(f\"La factorielle de 5 est : {result}\")"
   ]
  },
  {
   "cell_type": "code",
   "execution_count": 2,
   "metadata": {},
   "outputs": [
    {
     "name": "stdout",
     "output_type": "stream",
     "text": [
      "La factorielle de 5 est : 120\n"
     ]
    }
   ],
   "source": [
    "from functools import reduce\n",
    "\n",
    "# Fonction pour calculer la factorielle d'un nombre\n",
    "def factorial(n):\n",
    "    return reduce(lambda x, y: x * y, range(1, n + 1), 1)\n",
    "\n",
    "# Utilisation de la fonction pour calculer la factorielle de 5\n",
    "result = factorial(5)\n",
    "\n",
    "# Afficher le résultat\n",
    "print(f\"La factorielle de 5 est : {result}\")"
   ]
  },
  {
   "cell_type": "markdown",
   "metadata": {},
   "source": [
    "### N'itérez pas sur des listes : utilisez map et reduce (1)\n",
    "\n",
    "La fonction map prend en argument une fonction et une collection de données. Elle crée une nouvelle collection vide, applique la fonction à chaque élément de la collection d'origine et insère les valeurs de retour produites dans la nouvelle collection. Finalement, elle renvoie la nouvelle collection.\n",
    "\n",
    "Voici quelques exemples. Expliquez ce que le code fait."
   ]
  },
  {
   "cell_type": "code",
   "execution_count": 3,
   "metadata": {},
   "outputs": [
    {
     "name": "stdout",
     "output_type": "stream",
     "text": [
      "[4, 4, 3]\n"
     ]
    }
   ],
   "source": [
    "name_lengths = map(len, [\"Mary\", \"Isla\", \"Sam\"])\n",
    "\n",
    "print(list(name_lengths))\n",
    "# => [4, 4, 3]"
   ]
  },
  {
   "cell_type": "code",
   "execution_count": 4,
   "metadata": {},
   "outputs": [
    {
     "name": "stdout",
     "output_type": "stream",
     "text": [
      "[0, 1, 4, 9, 16]\n"
     ]
    }
   ],
   "source": [
    "squares = map(lambda x: x * x, [0, 1, 2, 3, 4])\n",
    "\n",
    "print(list(squares))\n",
    "# => [0, 1, 4, 9, 16]"
   ]
  },
  {
   "cell_type": "markdown",
   "metadata": {},
   "source": [
    "Un fonctionnel et non fonctionnel ci-dessous prend une liste de noms réels et les remplace par des noms de code choisis aléatoirement."
   ]
  },
  {
   "cell_type": "code",
   "execution_count": 6,
   "metadata": {},
   "outputs": [
    {
     "name": "stdout",
     "output_type": "stream",
     "text": [
      "['Mr. Pink', 'Mr. Orange', 'Mr. Blonde']\n"
     ]
    }
   ],
   "source": [
    "import random\n",
    "\n",
    "names = ['Mary', 'Isla', 'Sam']\n",
    "code_names = ['Mr. Pink', 'Mr. Orange', 'Mr. Blonde']\n",
    "\n",
    "for i in range(len(names)):\n",
    "    names[i] = random.choice(code_names)\n",
    "\n",
    "print (list(names))"
   ]
  },
  {
   "cell_type": "code",
   "execution_count": 8,
   "metadata": {},
   "outputs": [
    {
     "name": "stdout",
     "output_type": "stream",
     "text": [
      "['Mr. Pink', 'Mr. Pink', 'Mr. Blonde']\n"
     ]
    }
   ],
   "source": [
    "import random\n",
    "\n",
    "names = ['Mary', 'Isla', 'Sam']\n",
    "secret_names = map(lambda x: random.choice(['Mr. Pink',\n",
    "                                            'Mr. Orange',\n",
    "                                            'Mr. Blonde']), names)\n",
    "print (list(secret_names))"
   ]
  },
  {
   "cell_type": "markdown",
   "metadata": {},
   "source": [
    "### Exercice 1 : Reécrire ce code en paradigme fonctionnel"
   ]
  },
  {
   "cell_type": "code",
   "execution_count": 9,
   "metadata": {},
   "outputs": [
    {
     "name": "stdout",
     "output_type": "stream",
     "text": [
      "[8573663066379940577, -8573428967355928004, -7825936928896611339]\n"
     ]
    }
   ],
   "source": [
    "names = ['Mary', 'Isla', 'Sam']\n",
    "for i in range(len(names)):\n",
    "    names[i] = hash(names[i])\n",
    "\n",
    "print(list(names))"
   ]
  },
  {
   "cell_type": "markdown",
   "metadata": {},
   "source": [
    "Correction"
   ]
  },
  {
   "cell_type": "code",
   "execution_count": 14,
   "metadata": {
    "tags": []
   },
   "outputs": [
    {
     "name": "stdout",
     "output_type": "stream",
     "text": [
      "[8573663066379940577, -8573428967355928004, -7825936928896611339]\n"
     ]
    }
   ],
   "source": [
    "names = ['Mary', 'Isla', 'Sam']\n",
    "secret_names = map(hash, names)\n",
    "\n",
    "print(list(secret_names))"
   ]
  },
  {
   "cell_type": "markdown",
   "metadata": {},
   "source": [
    "### N'itérez pas sur des listes : utilisez map et reduce (2)\n",
    "La fonction reduce prend en entrée une fonction et une collection d'éléments. Elle renvoie une valeur créée en combinant les éléments de la collection.\n",
    "Voici une réduction simple. Elle renvoie la somme de tous les éléments de la collection :"
   ]
  },
  {
   "cell_type": "code",
   "execution_count": 25,
   "metadata": {},
   "outputs": [
    {
     "name": "stdout",
     "output_type": "stream",
     "text": [
      "10\n"
     ]
    }
   ],
   "source": [
    "from functools import reduce\n",
    "sum = reduce(lambda a, x: a + x, [0, 1, 2, 3, 4])\n",
    "\n",
    "print(sum)\n",
    "# => 10"
   ]
  },
  {
   "cell_type": "code",
   "execution_count": 24,
   "metadata": {},
   "outputs": [
    {
     "name": "stdout",
     "output_type": "stream",
     "text": [
      "1\n"
     ]
    }
   ],
   "source": [
    "# reduce(function, iterable, initializer=None)\n",
    "from functools import reduce\n",
    "\n",
    "def fatoriel_n(n):\n",
    "    return reduce(lambda a, x: a*x, range(1,n+1), 1)\n",
    "\n",
    "print(fatoriel_n(0))\n",
    "# => 10"
   ]
  },
  {
   "cell_type": "code",
   "execution_count": 19,
   "metadata": {},
   "outputs": [
    {
     "name": "stdout",
     "output_type": "stream",
     "text": [
      "3\n"
     ]
    }
   ],
   "source": [
    "# Le programme suivant compte le nombre d'occurrences du mot « Sam » dans une liste de chaînes de caractères :\n",
    "# Paradigme Itératif\n",
    "sentences = ['Mary read a story to Sam and Isla.',\n",
    "             'Isla cuddled Sam.',\n",
    "             'Sam chortled.']\n",
    "\n",
    "sam_count = 0\n",
    "for sentence in sentences:\n",
    "    sam_count += sentence.count('Sam')\n",
    "\n",
    "print(sam_count)\n",
    "# => 3"
   ]
  },
  {
   "cell_type": "code",
   "execution_count": null,
   "metadata": {},
   "outputs": [],
   "source": [
    "# Paradigme Functionnel\n",
    "from functools import reduce\n",
    "\n",
    "sentences = ['Mary read a story to Sam and Isla.',\n",
    "             'Isla cuddled Sam.',\n",
    "             'Sam chortled.']\n",
    "\n",
    "sam_count = reduce(lambda a, x: a + x.count('Sam'), sentences, 0)\n",
    "print(sam_count)\n",
    "# => 3"
   ]
  },
  {
   "cell_type": "markdown",
   "metadata": {},
   "source": [
    "> Les fonctions map et reduce ont de nombreuses amies qui offrent des fonctionnalités modifiées et utiles, par exemple : *filter*, *all*, any et find. La fonction *filter* prend en entrée une fonction et une collection. Elle renvoie une nouvelle collection contenant tous les éléments de la collection d'origine pour laquelle la fonction renvoie une valeur vraie (True)."
   ]
  },
  {
   "cell_type": "markdown",
   "metadata": {},
   "source": [
    "### Exercice 2 :  essayez de réécrire le code ci-dessous en utilisant map, reduce et filter."
   ]
  },
  {
   "cell_type": "code",
   "execution_count": 28,
   "metadata": {},
   "outputs": [
    {
     "name": "stdout",
     "output_type": "stream",
     "text": [
      "120.0\n"
     ]
    }
   ],
   "source": [
    "people = [{'name': 'Mary', 'height': 160},\n",
    "          {'name': 'Isla', 'height': 80},\n",
    "          {'name': 'Sam'}]\n",
    "\n",
    "height_total = 0\n",
    "height_count = 0\n",
    "for person in people:\n",
    "    if 'height' in person:\n",
    "        height_total += person['height']\n",
    "        height_count += 1\n",
    "\n",
    "if height_count > 0:\n",
    "    average_height = height_total / height_count\n",
    "\n",
    "print(average_height)\n",
    "# => 120"
   ]
  },
  {
   "cell_type": "markdown",
   "metadata": {},
   "source": [
    "### Correction"
   ]
  },
  {
   "cell_type": "code",
   "execution_count": 43,
   "metadata": {},
   "outputs": [
    {
     "name": "stdout",
     "output_type": "stream",
     "text": [
      "2\n",
      "120.0\n"
     ]
    }
   ],
   "source": [
    "from functools import reduce\n",
    "\n",
    "people = [{'name': 'Mary', 'height': 160},\n",
    "          {'name': 'Isla', 'height': 80},\n",
    "          {'name': 'Sam'}]\n",
    "\n",
    "# Filtrer les personnes sans 'height'\n",
    "filtered_people = filter(lambda person: 'height' in person, people)\n",
    "\n",
    "# Extraire les hauteurs\n",
    "heights = map(lambda person: person['height'], filtered_people)\n",
    "\n",
    "# Calculer la somme des hauteurs et le nombre de hauteurs non nulles\n",
    "height_total, height_count = reduce(\n",
    "    lambda acc, height: (acc[0] + height, acc[1] + 1),\n",
    "    heights,\n",
    "    (0, 0)\n",
    ")\n",
    "print(height_count)\n",
    "# Calculer la moyenne des hauteurs\n",
    "average_height = height_total / height_count if height_count > 0 else None\n",
    "\n",
    "print(average_height)\n"
   ]
  },
  {
   "cell_type": "markdown",
   "metadata": {},
   "source": [
    "### Exercice 3 :  réécrire le code en paradigme fonctionnel"
   ]
  },
  {
   "cell_type": "code",
   "execution_count": 15,
   "metadata": {},
   "outputs": [
    {
     "name": "stdout",
     "output_type": "stream",
     "text": [
      "Le déterminant de la matrice est : 41.999999999999986\n"
     ]
    }
   ],
   "source": [
    "### Fonction de vérification\n",
    "import numpy as np\n",
    "\n",
    "# Définir une matrice (par exemple, une matrice 3x3)\n",
    "matrix = np.array([[1, 2, -1],\n",
    "                   [0, 7, 6],\n",
    "                   [4, 8, 2]])\n",
    "\n",
    "# Calculer le déterminant de la matrice\n",
    "determinant = np.linalg.det(matrix)\n",
    "\n",
    "# Afficher le résultat\n",
    "print(f\"Le déterminant de la matrice est : {determinant}\")\n"
   ]
  },
  {
   "cell_type": "code",
   "execution_count": 16,
   "metadata": {},
   "outputs": [
    {
     "name": "stdout",
     "output_type": "stream",
     "text": [
      "Le déterminant de la matrice est : 42\n"
     ]
    }
   ],
   "source": [
    "def determinant(matrix):\n",
    "    # Vérifier si la matrice est carrée (même nombre de lignes et de colonnes)\n",
    "    if len(matrix) != len(matrix[0]):\n",
    "        raise ValueError(\"La matrice doit être carrée pour calculer le déterminant.\")\n",
    "    \n",
    "    # Cas de base pour une matrice 1x1\n",
    "    if len(matrix) == 1:\n",
    "        return matrix[0][0]\n",
    "\n",
    "    # Initialiser le déterminant\n",
    "    det = 0\n",
    "\n",
    "    # Développement par rapport à la première ligne\n",
    "    for col in range(len(matrix[0])):\n",
    "        cofactor = matrix[0][col] * determinant(minor(matrix, 0, col))\n",
    "        det += ((-1) ** col) * cofactor\n",
    "\n",
    "    return det\n",
    "\n",
    "def minor(matrix, row, col):\n",
    "    # Retourner la matrice mineure après avoir enlevé la ligne 'row' et la colonne 'col'\n",
    "    return [row[:col] + row[col+1:] for row in (matrix[:row] + matrix[row+1:])]\n",
    "\n",
    "# Exemple d'utilisation\n",
    "matrix_variable = [[1, 2, -1],\n",
    "                   [0, 7, 6],\n",
    "                   [4, 8, 2]]\n",
    "\n",
    "det_result = determinant(matrix_variable)\n",
    "print(f\"Le déterminant de la matrice est : {det_result}\")\n"
   ]
  },
  {
   "cell_type": "markdown",
   "metadata": {},
   "source": [
    "### Correction"
   ]
  },
  {
   "cell_type": "code",
   "execution_count": 17,
   "metadata": {},
   "outputs": [
    {
     "name": "stdout",
     "output_type": "stream",
     "text": [
      "Le déterminant de la matrice est : 42\n"
     ]
    }
   ],
   "source": [
    "from functools import reduce\n",
    "\n",
    "def determinant(matrix):\n",
    "    if not is_square(matrix):\n",
    "        raise ValueError(\"La matrice doit être carrée pour calculer le déterminant.\")\n",
    "    \n",
    "    size = len(matrix)\n",
    "    if size == 1:\n",
    "        return matrix[0][0]\n",
    "\n",
    "    det = reduce(\n",
    "        lambda acc, col: acc + ((-1) ** col[0]) * col[1] * determinant(minor(matrix, 0, col[0])),\n",
    "        enumerate(matrix[0]),\n",
    "        0\n",
    "    )\n",
    "    return det\n",
    "\n",
    "def minor(matrix, row, col):\n",
    "    return [row[:col] + row[col+1:] for row in (matrix[:row] + matrix[row+1:])]\n",
    "\n",
    "def is_square(matrix):\n",
    "    return all(len(row) == len(matrix) for row in matrix)\n",
    "\n",
    "# Exemple d'utilisation\n",
    "matrix_variable = [[1, 2, -1],\n",
    "                   [0, 7, 6],\n",
    "                   [4, 8, 2]]\n",
    "\n",
    "det_result = determinant(matrix_variable)\n",
    "print(f\"Le déterminant de la matrice est : {det_result}\")\n"
   ]
  },
  {
   "cell_type": "markdown",
   "metadata": {},
   "source": [
    "### Exercice 4 : Solde d’une liste de transactions\n",
    "\n",
    "Pour comprendre l’approche fonctionnelle, prenons de l’exemple de Riri, Fifi et Loulou qui s’échangent souvent des valeurs. Nous cherchons ici à faire le solde d’une liste de transactions. \n",
    "\n",
    "Voici dans ce tableau, la liste de leurs transactions :\n",
    "\n",
    "|    | date        | montant | depuis | vers |\n",
    "| -- | ----------- | ------- | ------ | ---- |\n",
    "| 0  | 2021-08-24  | 345     | riri   | fifi  |\n",
    "| 1  | 2021-08-22  | 133     | riri   | loulou  |\n",
    "| 2  | 2021-08-21  | 543     | fifi   | loulou  |\n",
    "| 3  | 2021-08-21  | 291     | riri   | loulou  |\n",
    "| 4  | 2021-08-06  | 253     | loulou | fifi  |\n",
    "| 5  | 2021-08-04  | 165     | loulou | fifi  |\n",
    "| 6  | 2021-08-04  | 376     | fifi   | riri  |\n",
    "| 7  | 2021-08-03  | 421     | riri   | fifi  |\n",
    "| 8  | 2021-07-29  | 164     | loulou | riri  |\n",
    "| 9  | 2021-07-28  | 279     | fifi   | riri  |\n",
    "| 10 | 2021-07-27  | 375     | fifi   | loulou  |\n",
    "\n",
    "Ecrivez en langage Python un code pour calculer le solde des comptes à une date donnée en fonction de la séquence des transactions. "
   ]
  },
  {
   "cell_type": "code",
   "execution_count": 53,
   "metadata": {},
   "outputs": [
    {
     "name": "stdout",
     "output_type": "stream",
     "text": [
      "{'riri': 398, 'fifi': -191, 'loulou': -207}\n"
     ]
    }
   ],
   "source": [
    "from  datetime import date, datetime\n",
    "\n",
    "date_i = date(2021, 8, 10)\n",
    "transactions = [\n",
    "        {'date': '2021-08-24', 'montant': 345, 'depuis': 'riri', 'vers': 'fifi'},\n",
    "        {'date': '2021-08-22', 'montant': 133, 'depuis': 'riri', 'vers': 'loulou'},\n",
    "        {'date': '2021-08-21', 'montant': 543, 'depuis': 'fifi', 'vers': 'loulou'},\n",
    "        {'date': '2021-08-21', 'montant': 291, 'depuis': 'riri', 'vers': 'loulou'},\n",
    "        {'date': '2021-08-06', 'montant': 253, 'depuis': 'loulou', 'vers': 'fifi'},\n",
    "        {'date': '2021-08-04', 'montant': 165, 'depuis': 'loulou', 'vers': 'fifi'},\n",
    "        {'date': '2021-08-04', 'montant': 376, 'depuis': 'fifi', 'vers': 'riri'},\n",
    "        {'date': '2021-08-03', 'montant': 421, 'depuis': 'riri', 'vers': 'fifi'},\n",
    "        {'date': '2021-07-29', 'montant': 164, 'depuis': 'loulou', 'vers': 'riri'},\n",
    "        {'date': '2021-07-28', 'montant': 279, 'depuis': 'fifi', 'vers': 'riri'},\n",
    "        {'date': '2021-07-27', 'montant': 375, 'depuis': 'fifi', 'vers': 'loulou'}\n",
    "    ] # Créer un dataframe avec les information du tableau\n",
    "\n",
    "soldes = {'riri':0, 'fifi':0, 'loulou':0}\n",
    "for t in transactions :\n",
    "    if date.fromisoformat(t['date']) <= date_i :\n",
    "        emetteur = t['depuis']\n",
    "        destinataire = t['vers']\n",
    "        montant = t['montant']\n",
    "        soldes[emetteur] -= montant\n",
    "        soldes[destinataire] += montant\n",
    "\n",
    "print(soldes)"
   ]
  },
  {
   "cell_type": "code",
   "execution_count": 59,
   "metadata": {},
   "outputs": [
    {
     "name": "stdout",
     "output_type": "stream",
     "text": [
      "398\n",
      "-191\n",
      "-207\n"
     ]
    }
   ],
   "source": [
    "from  datetime import date, datetime\n",
    "\n",
    "date_i = date(2021, 8, 10)\n",
    "transactions = [\n",
    "        {'date': '2021-08-24', 'montant': 345, 'depuis': 'riri', 'vers': 'fifi'},\n",
    "        {'date': '2021-08-22', 'montant': 133, 'depuis': 'riri', 'vers': 'loulou'},\n",
    "        {'date': '2021-08-21', 'montant': 543, 'depuis': 'fifi', 'vers': 'loulou'},\n",
    "        {'date': '2021-08-21', 'montant': 291, 'depuis': 'riri', 'vers': 'loulou'},\n",
    "        {'date': '2021-08-06', 'montant': 253, 'depuis': 'loulou', 'vers': 'fifi'},\n",
    "        {'date': '2021-08-04', 'montant': 165, 'depuis': 'loulou', 'vers': 'fifi'},\n",
    "        {'date': '2021-08-04', 'montant': 376, 'depuis': 'fifi', 'vers': 'riri'},\n",
    "        {'date': '2021-08-03', 'montant': 421, 'depuis': 'riri', 'vers': 'fifi'},\n",
    "        {'date': '2021-07-29', 'montant': 164, 'depuis': 'loulou', 'vers': 'riri'},\n",
    "        {'date': '2021-07-28', 'montant': 279, 'depuis': 'fifi', 'vers': 'riri'},\n",
    "        {'date': '2021-07-27', 'montant': 375, 'depuis': 'fifi', 'vers': 'loulou'}\n",
    "    ] # Créer un dataframe avec les information du tableau\n",
    "\n",
    "def filtrer_date(transactions, date):\n",
    "    return filter(lambda x : date.fromisoformat(x['date']) <= date, transactions)\n",
    "\n",
    "def filtrer_emetteur(transactions, nom):\n",
    "    return filter(lambda x : x['depuis'] == nom, transactions)\n",
    "\n",
    "def filtrer_destinataire(transactions, nom):\n",
    "    return filter(lambda x : x['vers'] == nom, transactions)\n",
    "\n",
    "def prendre_montant(transactions):\n",
    "    return map(lambda x : x['montant'], transactions)\n",
    "\n",
    "def somme(transactions):\n",
    "    return reduce(lambda x, y : x + y, prendre_montant(transactions))\n",
    "\n",
    "def calculer_solde(transactions, nom, date):\n",
    "    return (\n",
    "        somme(filtrer_destinataire(filtrer_date(transactions, date), nom)) - somme(filtrer_emetteur(filtrer_date(transactions, date), nom))\n",
    "    )\n",
    "\n",
    "print(calculer_solde(transactions, 'riri', date_i))\n",
    "print(calculer_solde(transactions, 'fifi', date_i))\n",
    "print(calculer_solde(transactions, 'loulou', date_i))"
   ]
  },
  {
   "cell_type": "markdown",
   "metadata": {},
   "source": [
    "La première séquence du code consiste à écrire les fonctions nécessaires à l’obtention de données :\n",
    "- Les premières fonctions servent à filtrer les transactions pour ne garder que celles qui nous intéressent : les transactions antérieures à une date donnée, celle d’un émetteur ou d’un destinataire.\n",
    "- La fonction « prendre_montant » exécute une extraction du montant de chaque élément du paramètre Transactions dans l’ordre, avec le mot-clé « map ».\n",
    "- La fonction Somme exécute une réduction (reduce). Une réduction permet d’agréger les éléments d’une liste. Dans ce cas, les éléments sont les montants du paramètre Transactions dans l’ordre et l’opération réalisée est la somme de ces montants.\n",
    "\n",
    "La deuxième séquence du code est « calculer_solde », une fonction combinant les fonctions précédentes que l’on exécute pour pouvoir déterminer le solde de l’une des trois personnes à une date donnée."
   ]
  },
  {
   "cell_type": "markdown",
   "metadata": {},
   "source": [
    "Sources :\n",
    "https://python.developpez.com/tutoriels/apprendre-programmation-fonctionnelle/\n",
    "https://www.saagie.com/fr/blog/programmation-fonctionnelle-comprendre-avec-un-exemple/"
   ]
  }
 ],
 "metadata": {
  "kernelspec": {
   "display_name": "myenv",
   "language": "python",
   "name": "python3"
  },
  "language_info": {
   "codemirror_mode": {
    "name": "ipython",
    "version": 3
   },
   "file_extension": ".py",
   "mimetype": "text/x-python",
   "name": "python",
   "nbconvert_exporter": "python",
   "pygments_lexer": "ipython3",
   "version": "3.9.16"
  },
  "orig_nbformat": 4
 },
 "nbformat": 4,
 "nbformat_minor": 2
}
