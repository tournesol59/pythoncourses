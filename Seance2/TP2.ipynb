{
 "cells": [
  {
   "cell_type": "markdown",
   "metadata": {},
   "source": [
    "> **Exo 1** <br>\n",
    "> Filtrer les mots qui commencent par la lettre 'a' <br>\n",
    "> words = ['apple', 'banana', 'avocado', 'orange', 'grape'] <br>"
   ]
  },
  {
   "cell_type": "code",
   "execution_count": 37,
   "metadata": {},
   "outputs": [
    {
     "name": "stdout",
     "output_type": "stream",
     "text": [
      "['apple', 'avocado']\n"
     ]
    }
   ],
   "source": [
    "# Filtrer les mots qui commencent par la lettre 'a'\n",
    "words = ['apple', 'banana', 'avocado', 'orange', 'grape']\n"
   ]
  },
  {
   "cell_type": "markdown",
   "metadata": {},
   "source": [
    "> **Exo 2** <br>\n",
    "> Ecrire une fonction qui prend en parametre une liste et retourne une liste contenant les carrés des éléments de la liste <br>"
   ]
  },
  {
   "cell_type": "code",
   "execution_count": 1,
   "metadata": {},
   "outputs": [
    {
     "name": "stdout",
     "output_type": "stream",
     "text": [
      "[1, 4, 9, 16, 25]\n"
     ]
    }
   ],
   "source": [
    "# Convertir une liste de nombres en une liste de leurs carrés\n",
    "numbers = [1, 2, 3, 4, 5]\n"
   ]
  },
  {
   "cell_type": "markdown",
   "metadata": {},
   "source": [
    "> **Exo 3** <br>\n",
    "> Utiliser la fonction _reduce_ pour écrire une fonction qui prend en paramètre une liste de chaines de caratères et retourne \n",
    "> une chaine de caratère conaténé. <br>\n",
    "\n",
    "```python\n",
    "words = ['Hello', ' ', 'world', '!']\n",
    "# retournera : Hello world!\n",
    "```"
   ]
  },
  {
   "cell_type": "code",
   "execution_count": 3,
   "metadata": {},
   "outputs": [
    {
     "name": "stdout",
     "output_type": "stream",
     "text": [
      "Hello world!\n"
     ]
    }
   ],
   "source": [
    "#  Utilisation de functools.reduce pour concaténer des chaînes :\n",
    "from functools import reduce\n",
    "# Concaténer les éléments d'une liste en une seule chaîne\n",
    "words = ['Hello', ' ', 'world', '!']\n"
   ]
  },
  {
   "cell_type": "markdown",
   "metadata": {},
   "source": [
    "> **Exo 4** <br>\n",
    "> Ecrire une fonction qui ajoute une valeur donnée à tous les utilisateurs de ce dictionnaire. <br>\n",
    "```python\n",
    "users_data = {'Alice': 25, 'Bob': 30, 'Charlie': 22, 'David': 35, 'Celine':27}\n",
    "updated_users_data(user_data, 10)\n",
    "# retournera : {'Alice': 35, 'Bob': 40, 'Charlie': 32, 'David': 45, 'Celine':37}\n",
    "```"
   ]
  },
  {
   "cell_type": "code",
   "execution_count": 39,
   "metadata": {},
   "outputs": [
    {
     "name": "stdout",
     "output_type": "stream",
     "text": [
      "{'Alice': 35, 'Bob': 40, 'Charlie': 32, 'David': 45}\n"
     ]
    }
   ],
   "source": [
    "# Mapping avec des dictionnaires et fonction définie par l'utilisateur :\n",
    "# Ajouter 10 ans à l'âge des utilisateurs dans un dictionnaire\n",
    "user_data = {'Alice': 25, 'Bob': 30, 'Charlie': 22, 'David': 35}\n"
   ]
  },
  {
   "cell_type": "markdown",
   "metadata": {},
   "source": [
    "> **Exo 5** <br>\n",
    "> Utilisation de la function _zip_ pour combiner deux listes en un dictionnaire. <br>\n",
    "> La fonction _zip_ en Python combine les éléments de plusieurs itérables (comme des listes ou des tuples) en une seule séquence d'éléments appariés. Elle renvoie un objet zip qui génère des tuples contenant des éléments des itérables appariés."
   ]
  },
  {
   "cell_type": "code",
   "execution_count": 48,
   "metadata": {},
   "outputs": [
    {
     "name": "stdout",
     "output_type": "stream",
     "text": [
      "(1, 'a')\n",
      "(2, 'b')\n",
      "(3, 'c')\n"
     ]
    }
   ],
   "source": [
    "liste1 = [1, 2, 3]\n",
    "liste2 = ['a', 'b', 'c']\n",
    "zip_result = zip(liste1, liste2)\n",
    "\n",
    "for zipped_item in zip_result:\n",
    "    print(zipped_item)"
   ]
  },
  {
   "cell_type": "code",
   "execution_count": 40,
   "metadata": {},
   "outputs": [
    {
     "name": "stdout",
     "output_type": "stream",
     "text": [
      "{'name': 'Alice', 'age': 30, 'city': 'New York'}\n"
     ]
    }
   ],
   "source": [
    "# Utilisation de zip pour combiner deux listes en un dictionnaire :\n",
    "# Créer un dictionnaire à partir de deux listes\n",
    "keys = ['name', 'age', 'city']\n",
    "values = ['Alice', 30, 'New York']\n",
    "user_dict = dict(zip(keys, values))\n",
    "print(user_dict)"
   ]
  },
  {
   "cell_type": "markdown",
   "metadata": {},
   "source": [
    "> **Exo 6** <br>\n",
    "> Utilisation de la function _sorted_ pour pour trier un dictionnaire par valeurs. <br>"
   ]
  },
  {
   "cell_type": "code",
   "execution_count": 4,
   "metadata": {},
   "outputs": [
    {
     "name": "stdout",
     "output_type": "stream",
     "text": [
      "{'Charlie': 22, 'Alice': 25, 'Bob': 30, 'David': 35}\n"
     ]
    }
   ],
   "source": [
    "# Utilisation de sorted pour trier un dictionnaire par valeurs :\n",
    "# Trier un dictionnaire par valeurs\n",
    "user_data = {'Alice': 25, 'Bob': 30, 'Charlie': 22, 'David': 35}\n"
   ]
  },
  {
   "cell_type": "markdown",
   "metadata": {},
   "source": [
    "> **Exo 7** <br>\n",
    "> Utilisation de _any_ pour vérifier si au moins un élément satisfait une condition. <br>"
   ]
  },
  {
   "cell_type": "code",
   "execution_count": 5,
   "metadata": {},
   "outputs": [
    {
     "name": "stdout",
     "output_type": "stream",
     "text": [
      "True\n"
     ]
    }
   ],
   "source": [
    "# Utilisation de any pour vérifier si au moins un élément satisfait une condition :\n",
    "# Vérifier s'il y a des nombres pairs dans une liste\n",
    "numbers = [1, 3, 5, 7, 10, 11]\n",
    "has_even_numbers = any(map(lambda x: x % 2 == 0, numbers))\n",
    "print(has_even_numbers)"
   ]
  },
  {
   "cell_type": "markdown",
   "metadata": {},
   "source": [
    "> **Exo 8** <br>\n",
    "> Utilisation de la fonction _Counter_ pour compter les occurrences  dans une liste.<br>"
   ]
  },
  {
   "cell_type": "code",
   "execution_count": 46,
   "metadata": {},
   "outputs": [
    {
     "name": "stdout",
     "output_type": "stream",
     "text": [
      "{'apple': 3, 'banana': 2, 'orange': 1}\n"
     ]
    }
   ],
   "source": [
    "# Utilisation de collections.Counter pour compter les occurrences :\n",
    "from collections import Counter\n",
    "\n",
    "# Compter les occurrences de chaque élément dans une liste\n",
    "words = ['apple', 'banana', 'orange', 'apple', 'banana', 'apple']\n",
    "word_counts = Counter(words)\n",
    "\n",
    "print(dict(word_counts))"
   ]
  },
  {
   "cell_type": "markdown",
   "metadata": {},
   "source": [
    "> **Exo 9** <br>\n",
    "> Faire la somme de la multiplication element par element de deux listes.<br>\n",
    "```python\n",
    "# Deux listes de nombres\n",
    "liste1 = [1, 2, 3, 4, 5]\n",
    "liste2 = [10, 20, 30, 40, 50]\n",
    "# Resultat : 550\n",
    "```"
   ]
  },
  {
   "cell_type": "code",
   "execution_count": 47,
   "metadata": {},
   "outputs": [
    {
     "name": "stdout",
     "output_type": "stream",
     "text": [
      "Résultat final de la multiplication et de la somme : 550\n"
     ]
    }
   ],
   "source": [
    "from functools import reduce\n",
    "\n",
    "# Deux listes de nombres\n",
    "liste1 = [1, 2, 3, 4, 5]\n",
    "liste2 = [10, 20, 30, 40, 50]\n"
   ]
  },
  {
   "cell_type": "markdown",
   "metadata": {},
   "source": [
    "### Problème 2 : \n",
    ">Écrivez une fonction qui prend une chaîne de texte en entrée et renvoie un dictionnaire comptant le nombre d'occurrences de chaque mot. \n",
    "La fonction ne devra pas compter les nombres, les caractères de ponctuations, les caractères spéciaux et les mots ci-dessous. La fonction doit aussi être ensensible à la casse. C'est à dire 'Car','cAR' et 'CaR' seront comptés comme le même mot. <br><br>\n",
    ">excluded_words = {'et', 'ou', 'mais', 'donc', 'or', 'ni', 'car', 'je', 'tu', 'il', 'elle', 'nous', 'vous', 'ils', 'elles', \n",
    "'mon', 'ton', 'son', 'notre', 'votre', 'leur', 'c', 'ce', 'celle', 'celles', 'ceux', 'cette', 'cet', 'ces', 'ma', 'ta', 'sa', \n",
    "'notre', 'votre', 'leur', 'l', 'le', 'la', 'les', 'de', 'me', 'mes', 'nos', 'tes', 'ses', 'du', 'des', 'au', 'à', 'aux', 'qu', 'qui', \n",
    "'que', 'quel', 'un', 'une', 'uns', 'unes', 'aux', 'de', 'd', 'y', 'n'}"
   ]
  },
  {
   "cell_type": "markdown",
   "metadata": {},
   "source": [
    "### Problème 2 [correction]"
   ]
  },
  {
   "cell_type": "code",
   "execution_count": 13,
   "metadata": {},
   "outputs": [
    {
     "name": "stdout",
     "output_type": "stream",
     "text": [
      "text 1 :  {'blanc': 1, 'chat': 2, 'chien': 2, 'court': 1, 'est': 2, 'noir': 1, 'plus': 1, 'vite': 1}\n",
      "text 2 :  {'ami': 1, 'arrivent': 1, 'attention': 1, 'aussi': 1, 'avoir': 1, 'bientôt': 1, 'brille': 1, 'commencer': 1, 'dois': 1, 'doucement': 1, 'nuages': 1, 'parapluie': 1, 'pluie': 1, 'pourrait': 1, 'prends': 1, 'préparer': 1, 'soleil': 1, 'souffle': 1, 'va': 1, 'vent': 1, 'éclairs': 1}\n",
      "text 3 :  {'arithmétiques': 1, 'bien': 1, 'bientôt': 1, 'bonne': 1, 'chance': 1, 'comme': 1, 'comparaisons': 1, 'face': 1, 'journée': 1, 'opérateurs': 1, 'oublie': 1, 'pas': 1, 'pense': 1, 'pleine': 1, 'sera': 1, 'surprises': 1, 'sûr': 1, 'vigilant': 1, 'être': 1}\n",
      "text 4 :  {'aident': 1, 'ainsi': 1, 'amitié': 1, 'apprendre': 1, 'aventure': 1, 'chaque': 1, 'courage': 1, 'devons': 1, 'découvrons': 1, 'défis': 1, 'est': 3, 'expériences': 1, 'face': 1, 'faire': 1, 'faisons': 1, 'fascinante': 1, 'force': 1, 'grandir': 1, 'intérieure': 1, 'jour': 1, 'journées': 1, 'nos': 1, 'nouvelles': 1, 'obstacles': 1, 'opportunités': 1, 'parfois': 1, 'pleine': 1, 'pour': 1, 'preuve': 1, 'précieux': 1, 'sombres': 1, 'surmonter': 1, 'trésor': 1, 'vie': 1, 'véritable': 1, 'éclaire': 1}\n"
     ]
    }
   ],
   "source": [
    "# Exemple d'utilisation :\n",
    "text1 = \"Le chat est noir et le chien est blanc. Le chien court plus vite que le chat.\"\n",
    "\n",
    "text2 = \"1. Le soleil brille et le vent souffle doucement. 2. Mais, attention ! Les nuages arrivent, et la pluie va bientôt commencer.\\\n",
    "        Mon ami, tu dois te préparer. Prends ton parapluie, car il pourrait y avoir des éclairs aussi.\"\n",
    "\n",
    "text3 = \"N\\'oublie pas d'être vigilant face à ces opérateurs arithmétiques : +, -, *, /, %, et bien sûr, les comparaisons \\\n",
    "        comme ==, !=, <, >, <=, >=. Je pense que cette journée sera pleine de surprises ! ~ Bonne chance et à bientôt.\"\n",
    "\n",
    "text4 = \"La vie est une aventure fascinante pleine de défis et d'opportunités. Chaque jour, nous faisons face à de nouvelles \\\n",
    "        expériences qui nous aident à grandir et à apprendre. Parfois, nous devons faire preuve de courage pour surmonter des obstacles, \\\n",
    "        mais c'est ainsi que nous découvrons notre véritable force intérieure. L'amitié est un trésor précieux qui éclaire nos journées \\\n",
    "        sombres.\"\n",
    "\n",
    "print(\"text 1 : \", word_count(text1))\n",
    "print(\"text 2 : \", word_count(text2))\n",
    "print(\"text 3 : \", word_count(text3))\n",
    "print(\"text 4 : \", word_count(text4))"
   ]
  }
 ],
 "metadata": {
  "kernelspec": {
   "display_name": "Python 3",
   "language": "python",
   "name": "python3"
  },
  "language_info": {
   "codemirror_mode": {
    "name": "ipython",
    "version": 3
   },
   "file_extension": ".py",
   "mimetype": "text/x-python",
   "name": "python",
   "nbconvert_exporter": "python",
   "pygments_lexer": "ipython3",
   "version": "3.10.7"
  }
 },
 "nbformat": 4,
 "nbformat_minor": 2
}
